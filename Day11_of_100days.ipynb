{
  "nbformat": 4,
  "nbformat_minor": 0,
  "metadata": {
    "colab": {
      "provenance": [],
      "authorship_tag": "ABX9TyME+ai9Sc0fGIkb0+67jBdR",
      "include_colab_link": true
    },
    "kernelspec": {
      "name": "python3",
      "display_name": "Python 3"
    },
    "language_info": {
      "name": "python"
    }
  },
  "cells": [
    {
      "cell_type": "markdown",
      "metadata": {
        "id": "view-in-github",
        "colab_type": "text"
      },
      "source": [
        "<a href=\"https://colab.research.google.com/github/rodrigorissettoterra/100_days_of_Python/blob/main/Day11_of_100days.ipynb\" target=\"_parent\"><img src=\"https://colab.research.google.com/assets/colab-badge.svg\" alt=\"Open In Colab\"/></a>"
      ]
    },
    {
      "cell_type": "markdown",
      "source": [
        "#Project 11: How many seconds are in a year?"
      ],
      "metadata": {
        "id": "wUCtMeiaSObG"
      }
    },
    {
      "cell_type": "markdown",
      "source": [
        "Use the power of breaking a program down into its parts. We could Google this, but why not make a program for this instead."
      ],
      "metadata": {
        "id": "kdySFwsAtw5q"
      }
    },
    {
      "cell_type": "markdown",
      "source": [
        "##1 - You can multiply a bunch of numbers to figure out how many seconds are in a year."
      ],
      "metadata": {
        "id": "KSVQ3pYev11E"
      }
    },
    {
      "cell_type": "markdown",
      "source": [
        "##2 - Use input and if statements to add the extra day for leap year."
      ],
      "metadata": {
        "id": "JYN9hWmscBc3"
      }
    },
    {
      "cell_type": "markdown",
      "source": [
        "##3 - Make the computer do all the hard work and math for you. You do the thinking beforehand."
      ],
      "metadata": {
        "id": "QVVhVMXucEv0"
      }
    },
    {
      "cell_type": "code",
      "source": [
        "print(65*\"-\")\n",
        "print(\"\"\"This code checks how many seconds there are in a year,\n",
        "as well as whether the year is a leap year or not.\"\"\")\n",
        "print(65*\"-\")\n",
        "\n",
        "year = int(input(\"Entar a year: \"))\n",
        "\n",
        "if year % 4 == 0:\n",
        "  if year % 100 == 0:\n",
        "    if year % 400 == 0:\n",
        "      print(f\"The year:\",year, \"is a leap year.\")\n",
        "      print(f\"There are {366*24*60*60} seconds in {year}.\")\n",
        "else:\n",
        "  print(f\"The year:\",year, \"is NOT a leap year.\")\n",
        "  print(f\"There are {365*24*60*60} seconds in {year}.\")"
      ],
      "metadata": {
        "id": "ygMy_RpAeuEf",
        "colab": {
          "base_uri": "https://localhost:8080/"
        },
        "outputId": "08bed7d2-4769-4e36-ec50-3bd54e3a00d3"
      },
      "execution_count": 1,
      "outputs": [
        {
          "output_type": "stream",
          "name": "stdout",
          "text": [
            "-----------------------------------------------------------------\n",
            "This code checks how many seconds there are in a year, \n",
            "as well as whether the year is a leap year or not.\n",
            "-----------------------------------------------------------------\n",
            "Entar a year: 1983\n",
            "The year: 1983 is NOT a leap year.\n",
            "There are 31536000 seconds in 1983.\n"
          ]
        }
      ]
    },
    {
      "cell_type": "markdown",
      "source": [
        "##4 - Add one more line to your output You can follow my progress at [GitHub](https://github.com/rodrigorissettoterra/100_days_of_Python/blob/main/README.md)."
      ],
      "metadata": {
        "id": "FyA4dCozTZvJ"
      }
    },
    {
      "cell_type": "code",
      "source": [
        "print(\"You can follow my progress at:\"\"\"\n",
        "\"\"\"https://github.com/rodrigorissettoterra/100_days_of_Python/blob/main/README.md\"\"\")"
      ],
      "metadata": {
        "colab": {
          "base_uri": "https://localhost:8080/"
        },
        "id": "9cfq7jFSTTPg",
        "outputId": "f54d6903-6ba2-46e9-a10b-2b3f12857a68"
      },
      "execution_count": null,
      "outputs": [
        {
          "output_type": "stream",
          "name": "stdout",
          "text": [
            "You can follow my progress at:https://github.com/rodrigorissettoterra/100_days_of_Python/blob/main/README.md\n"
          ]
        }
      ]
    }
  ]
}