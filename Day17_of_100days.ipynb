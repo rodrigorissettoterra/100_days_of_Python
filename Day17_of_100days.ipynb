{
  "nbformat": 4,
  "nbformat_minor": 0,
  "metadata": {
    "colab": {
      "provenance": [],
      "authorship_tag": "ABX9TyMOGFD5LX7DeZQ++GOFHB3y",
      "include_colab_link": true
    },
    "kernelspec": {
      "name": "python3",
      "display_name": "Python 3"
    },
    "language_info": {
      "name": "python"
    }
  },
  "cells": [
    {
      "cell_type": "markdown",
      "metadata": {
        "id": "view-in-github",
        "colab_type": "text"
      },
      "source": [
        "<a href=\"https://colab.research.google.com/github/rodrigorissettoterra/100_days_of_Python/blob/main/Day17_of_100days.ipynb\" target=\"_parent\"><img src=\"https://colab.research.google.com/assets/colab-badge.svg\" alt=\"Open In Colab\"/></a>"
      ]
    },
    {
      "cell_type": "markdown",
      "source": [
        "#Project 17: Rock, Paper, Scissors"
      ],
      "metadata": {
        "id": "wUCtMeiaSObG"
      }
    },
    {
      "cell_type": "markdown",
      "source": [
        "#1 - Use a loop to repeat the game multiple rounds."
      ],
      "metadata": {
        "id": "CAiuKiBtC6r6"
      }
    },
    {
      "cell_type": "markdown",
      "source": [
        "#2 - Keep score of player 1 and player 2."
      ],
      "metadata": {
        "id": "KSVQ3pYev11E"
      }
    },
    {
      "cell_type": "markdown",
      "source": [
        "#3 - End the game when a player wins three rounds using break and exit"
      ],
      "metadata": {
        "id": "NvkDKtjXC_FU"
      }
    },
    {
      "cell_type": "markdown",
      "source": [
        "#4 - Use continue to restart the round until one player wins three rounds."
      ],
      "metadata": {
        "id": "ZQS7Ki5eDDAM"
      }
    },
    {
      "cell_type": "markdown",
      "source": [
        "#5 - Your last bit of code should be the results of which player won."
      ],
      "metadata": {
        "id": "TAJQKetm6y2X"
      }
    },
    {
      "cell_type": "code",
      "source": [
        "from getpass import getpass as input\n",
        "\n",
        "\n",
        "print(\"E P I C    🪨  📄 ✂️    B A T T L E \")\n",
        "print()\n",
        "print(\"Select your move (R, P or S)\")\n",
        "print()\n",
        "\n",
        "player1_score = 0\n",
        "player2_score = 0\n",
        "\n",
        "while True:\n",
        "  player1Move = input(\"Player 1 > \")\n",
        "  print()\n",
        "  player2Move = input(\"Player 2 > \")\n",
        "  print()\n",
        "\n",
        "  if(player1Move==\"R\"):\n",
        "    if(player2Move==\"R\"):\n",
        "      print(\"You both picked Rock, draw!\")\n",
        "    elif(player2Move==\"S\"):\n",
        "      print(\"Player1 smashed Player2's Scissors into dust with their Rock!\")\n",
        "      player1_score += 1\n",
        "    elif(player2Move==\"P\"):\n",
        "      print(\"Player1's Rock is smothered by Player2's Paper!\")\n",
        "      player2_score += 1\n",
        "  elif(player1Move==\"P\"):\n",
        "    if(player2Move==\"R\"):\n",
        "      print(\"Player2's Rock is smothered by Player1's Paper!\")\n",
        "      player1_score += 1\n",
        "    elif(player2Move==\"S\"):\n",
        "      print(\"Player1's Paper is cut into tiny pieces by Player2's Scissors!\")\n",
        "      player2_score += 1\n",
        "    elif(player2Move==\"P\"):\n",
        "      print(\"Two bits of paper flap at each other. Dissapointing. Draw.\")\n",
        "  elif(player1Move==\"S\"):\n",
        "    if(player2Move==\"R\"):\n",
        "      print(\"Player 2's Rock makes metal-dust out of Player1's Scissors\")\n",
        "      player2_score += 1\n",
        "    elif(player2Move==\"S\"):\n",
        "      print(\"Ka-Shing! Scissors bounce off each other like a dodgy sword fight! Draw.\")\n",
        "    elif(player2Move==\"P\"):\n",
        "      print(\"Player1's Scissors make confetti out of Player2's paper!\")\n",
        "      player1_score += 1\n",
        "\n",
        "\n",
        "  print(\"Player 1 has\", player1_score, \"wins.\")\n",
        "  print(\"Player 2 has\", player2_score, \"wins.\")\n",
        "\n",
        "  if player1_score==3 or player2_score==3:\n",
        "    print(\"Thanks for playing!\")\n",
        "    exit()\n",
        "  else:\n",
        "    continue"
      ],
      "metadata": {
        "id": "ygMy_RpAeuEf",
        "colab": {
          "base_uri": "https://localhost:8080/"
        },
        "outputId": "bed4f929-ae3e-47a7-9f4c-0e5387b9169e"
      },
      "execution_count": null,
      "outputs": [
        {
          "output_type": "stream",
          "name": "stdout",
          "text": [
            "E P I C    🪨  📄 ✂️    B A T T L E \n",
            "\n",
            "Select your move (R, P or S)\n",
            "\n",
            "Player 1 > ··········\n",
            "\n",
            "Player 2 > ··········\n",
            "\n",
            "Player1's Rock is smothered by Player2's Paper!\n",
            "Player 1 has 0 wins.\n",
            "Player 2 has 1 wins.\n",
            "Player 1 > ··········\n",
            "\n",
            "Player 2 > ··········\n",
            "\n",
            "Player1's Rock is smothered by Player2's Paper!\n",
            "Player 1 has 0 wins.\n",
            "Player 2 has 2 wins.\n",
            "Player 1 > ··········\n",
            "\n",
            "Player 2 > ··········\n",
            "\n",
            "Player1's Rock is smothered by Player2's Paper!\n",
            "Player 1 has 0 wins.\n",
            "Player 2 has 3 wins.\n",
            "Thanks for playing!\n"
          ]
        }
      ]
    },
    {
      "cell_type": "markdown",
      "source": [
        "##Add one more line to your output You can follow my progress at [GitHub](https://github.com/rodrigorissettoterra/100_days_of_Python/blob/main/README.md)."
      ],
      "metadata": {
        "id": "FyA4dCozTZvJ"
      }
    },
    {
      "cell_type": "code",
      "source": [
        "print(\"You can follow my progress at:\"\"\"\n",
        "\"\"\"https://github.com/rodrigorissettoterra/100_days_of_Python/blob/main/README.md\"\"\")"
      ],
      "metadata": {
        "colab": {
          "base_uri": "https://localhost:8080/"
        },
        "id": "9cfq7jFSTTPg",
        "outputId": "f54d6903-6ba2-46e9-a10b-2b3f12857a68"
      },
      "execution_count": null,
      "outputs": [
        {
          "output_type": "stream",
          "name": "stdout",
          "text": [
            "You can follow my progress at:https://github.com/rodrigorissettoterra/100_days_of_Python/blob/main/README.md\n"
          ]
        }
      ]
    }
  ]
}