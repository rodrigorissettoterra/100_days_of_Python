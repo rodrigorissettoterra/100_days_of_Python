{
  "nbformat": 4,
  "nbformat_minor": 0,
  "metadata": {
    "colab": {
      "provenance": [],
      "authorship_tag": "ABX9TyPwAHifFMlYq9EnpKZz7BvK",
      "include_colab_link": true
    },
    "kernelspec": {
      "name": "python3",
      "display_name": "Python 3"
    },
    "language_info": {
      "name": "python"
    }
  },
  "cells": [
    {
      "cell_type": "markdown",
      "metadata": {
        "id": "view-in-github",
        "colab_type": "text"
      },
      "source": [
        "<a href=\"https://colab.research.google.com/github/rodrigorissettoterra/100_days_of_Python/blob/main/Day12_of_100days.ipynb\" target=\"_parent\"><img src=\"https://colab.research.google.com/assets/colab-badge.svg\" alt=\"Open In Colab\"/></a>"
      ]
    },
    {
      "cell_type": "markdown",
      "source": [
        "#Project 12: Try and fix this code which is full of errors"
      ],
      "metadata": {
        "id": "wUCtMeiaSObG"
      }
    },
    {
      "cell_type": "markdown",
      "source": [
        "First, delete any other code in your main.py file. Copy each code snippet below into main.py by clicking the copy icon in the top right of each code box. Then, hit run and see what errors occur. Fix the errors and press run again until you are error free. Click on the 👀 Answer to compare your code to the correct code."
      ],
      "metadata": {
        "id": "KSVQ3pYev11E"
      }
    },
    {
      "cell_type": "markdown",
      "source": [
        "**The code which is *full* os errors**"
      ],
      "metadata": {
        "id": "F-mUIKULDrqW"
      }
    },
    {
      "cell_type": "code",
      "source": [
        "print(\"100 Days of Code QUIZ\")\n",
        "print()\n",
        "print(\"How many can you answer correctly?)\n",
        "ans1 = (\"What language are we writing in?\")\n",
        "if ans1 == \"python\":\n",
        "  print(\"Correct\")\n",
        "else:\n",
        "  print(\"Nope🙈\n",
        "ans2 = input(\"Which lesson number is this?\")\n",
        "if(ans2>12):\n",
        "print(\"We're not quite that far yet\")\n",
        "else:\n",
        "  print(\"We've gone well past that!\")\n",
        "elif(ans2==12):\n",
        "  print(\"That's right!\")"
      ],
      "metadata": {
        "id": "ygMy_RpAeuEf"
      },
      "execution_count": null,
      "outputs": []
    },
    {
      "cell_type": "markdown",
      "source": [
        "**The corrected code:**"
      ],
      "metadata": {
        "id": "BfWGY0vKDZZf"
      }
    },
    {
      "cell_type": "code",
      "source": [
        "print(\"100 Days of Code QUIZ\")\n",
        "print()\n",
        "print(\"How many can you answer correctly?\")\n",
        "ans1 = input(\"What language are we writing in? -> \")\n",
        "if ans1 == \"python\":\n",
        "  print(\"Correct\")\n",
        "else:\n",
        "  print(\"Nope🙈\")\n",
        "ans2 = int(input(\"Which lesson number is this? -> \"))\n",
        "if(ans2>12):\n",
        "  print(\"We're not quite that far yet\")\n",
        "elif(ans2<12):\n",
        "  print(\"We've gone well past that!\")\n",
        "if(ans2==12):\n",
        "  print(\"That's right!\")"
      ],
      "metadata": {
        "colab": {
          "base_uri": "https://localhost:8080/"
        },
        "id": "Gc9ER0a8CekI",
        "outputId": "ba75c2f9-0c7c-40dd-a810-1c0be6f7de35"
      },
      "execution_count": 3,
      "outputs": [
        {
          "output_type": "stream",
          "name": "stdout",
          "text": [
            "100 Days of Code QUIZ\n",
            "\n",
            "How many can you answer correctly?\n",
            "What language are we writing in? -> python\n",
            "Correct\n",
            "Which lesson number is this? -> 12\n",
            "That's right!\n"
          ]
        }
      ]
    },
    {
      "cell_type": "markdown",
      "source": [
        "##Add one more line to your output You can follow my progress at [GitHub](https://github.com/rodrigorissettoterra/100_days_of_Python/blob/main/README.md)."
      ],
      "metadata": {
        "id": "FyA4dCozTZvJ"
      }
    },
    {
      "cell_type": "code",
      "source": [
        "print(\"You can follow my progress at:\"\"\"\n",
        "\"\"\"https://github.com/rodrigorissettoterra/100_days_of_Python/blob/main/README.md\"\"\")"
      ],
      "metadata": {
        "colab": {
          "base_uri": "https://localhost:8080/"
        },
        "id": "9cfq7jFSTTPg",
        "outputId": "f54d6903-6ba2-46e9-a10b-2b3f12857a68"
      },
      "execution_count": null,
      "outputs": [
        {
          "output_type": "stream",
          "name": "stdout",
          "text": [
            "You can follow my progress at:https://github.com/rodrigorissettoterra/100_days_of_Python/blob/main/README.md\n"
          ]
        }
      ]
    }
  ]
}