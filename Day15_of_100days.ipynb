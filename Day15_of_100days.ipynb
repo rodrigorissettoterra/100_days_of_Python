{
  "nbformat": 4,
  "nbformat_minor": 0,
  "metadata": {
    "colab": {
      "provenance": [],
      "authorship_tag": "ABX9TyMu1fI9DofBEio/1I5lNkiA",
      "include_colab_link": true
    },
    "kernelspec": {
      "name": "python3",
      "display_name": "Python 3"
    },
    "language_info": {
      "name": "python"
    }
  },
  "cells": [
    {
      "cell_type": "markdown",
      "metadata": {
        "id": "view-in-github",
        "colab_type": "text"
      },
      "source": [
        "<a href=\"https://colab.research.google.com/github/rodrigorissettoterra/100_days_of_Python/blob/main/Day15_of_100days.ipynb\" target=\"_parent\"><img src=\"https://colab.research.google.com/assets/colab-badge.svg\" alt=\"Open In Colab\"/></a>"
      ]
    },
    {
      "cell_type": "markdown",
      "source": [
        "#Project 15: What animal do you want?"
      ],
      "metadata": {
        "id": "wUCtMeiaSObG"
      }
    },
    {
      "cell_type": "markdown",
      "source": [
        "Write a program that loops. Inside the loop, ask the user what animal sound they want to hear."
      ],
      "metadata": {
        "id": "KSVQ3pYev11E"
      }
    },
    {
      "cell_type": "markdown",
      "source": [
        "**Example**\n",
        "\n",
        "What animal do you want?: Cow</br>\n",
        "A cow goes moo.\n",
        "\n",
        "Do you want to exit?: no\n",
        "\n",
        "What animal do you want?: </br>\n",
        "A Lesser Spotted lemur Ummm...the Lesser Spotter Lemur goes awooga.\n",
        "\n",
        "Do you want to exit?: yes"
      ],
      "metadata": {
        "id": "TAJQKetm6y2X"
      }
    },
    {
      "cell_type": "code",
      "source": [
        "answer = \"no\"\n",
        "\n",
        "while answer == \"no\":\n",
        "  animal = input(\"What animal do you want? \")\n",
        "  if animal == \"cow\":\n",
        "    print(\"The cow let out a resonant 'moo' as it grazed peacefully in the pasture.\")\n",
        "  if animal == \"dog\":\n",
        "    print(\"Dogs can bark as a form of communication or to express their discomfort or warning.\")\n",
        "  if animal == \"cat\":\n",
        "    print(\"Cats produce a soft, rhythmic purring sound, often indicating contentment or relaxation.\")\n",
        "  if animal == \"bird\":\n",
        "    print(\"The chirping of the birds in the morning signaled the arrival of a new day.\")\n",
        "  if animal == \"fish\":\n",
        "    print(\"The fish splashed and danced, creating ripples on the surface of the water.\")\n",
        "  if animal == \"pig\":\n",
        "    print(\"Pigs are known to produce an oinking sound, often heard as they communicate or express excitement while rooting for food in the barnyard.\")\n",
        "  if animal == \"sheep\":\n",
        "    print(\"In the distance, the peaceful countryside was filled with the gentle bleating of the grazing sheep.\")\n",
        "  if animal == \"horse\":\n",
        "    print(\"The majestic horse greeted its stablemate with a friendly neigh, echoing across the peaceful pasture.\")\n",
        "\n",
        "  answer = input(\"Do you want to exit? \")"
      ],
      "metadata": {
        "id": "ygMy_RpAeuEf",
        "colab": {
          "base_uri": "https://localhost:8080/"
        },
        "outputId": "4e6a6b6a-e637-400e-adca-2e123365faff"
      },
      "execution_count": 39,
      "outputs": [
        {
          "name": "stdout",
          "output_type": "stream",
          "text": [
            "What animal do you want? horse\n",
            "The majestic horse greeted its stablemate with a friendly neigh, echoing across the peaceful pasture.\n",
            "Do you want to exit? no\n",
            "What animal do you want? cat\n",
            "Cats produce a soft, rhythmic purring sound, often indicating contentment or relaxation.\n",
            "Do you want to exit? no\n",
            "What animal do you want? dog\n",
            "Dogs can bark as a form of communication or to express their discomfort or warning.\n",
            "Do you want to exit? no\n",
            "What animal do you want? sheep\n",
            "In the distance, the peaceful countryside was filled with the gentle bleating of the grazing sheep.\n",
            "Do you want to exit? yes\n"
          ]
        }
      ]
    },
    {
      "cell_type": "markdown",
      "source": [
        "##Add one more line to your output You can follow my progress at [GitHub](https://github.com/rodrigorissettoterra/100_days_of_Python/blob/main/README.md)."
      ],
      "metadata": {
        "id": "FyA4dCozTZvJ"
      }
    },
    {
      "cell_type": "code",
      "source": [
        "print(\"You can follow my progress at:\"\"\"\n",
        "\"\"\"https://github.com/rodrigorissettoterra/100_days_of_Python/blob/main/README.md\"\"\")"
      ],
      "metadata": {
        "colab": {
          "base_uri": "https://localhost:8080/"
        },
        "id": "9cfq7jFSTTPg",
        "outputId": "f54d6903-6ba2-46e9-a10b-2b3f12857a68"
      },
      "execution_count": null,
      "outputs": [
        {
          "output_type": "stream",
          "name": "stdout",
          "text": [
            "You can follow my progress at:https://github.com/rodrigorissettoterra/100_days_of_Python/blob/main/README.md\n"
          ]
        }
      ]
    }
  ]
}