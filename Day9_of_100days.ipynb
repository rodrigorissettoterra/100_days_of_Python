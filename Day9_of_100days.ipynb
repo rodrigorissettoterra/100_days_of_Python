{
  "nbformat": 4,
  "nbformat_minor": 0,
  "metadata": {
    "colab": {
      "provenance": [],
      "authorship_tag": "ABX9TyOCCOOU/FVGeC2b8Y+mzluD",
      "include_colab_link": true
    },
    "kernelspec": {
      "name": "python3",
      "display_name": "Python 3"
    },
    "language_info": {
      "name": "python"
    }
  },
  "cells": [
    {
      "cell_type": "markdown",
      "metadata": {
        "id": "view-in-github",
        "colab_type": "text"
      },
      "source": [
        "<a href=\"https://colab.research.google.com/github/rodrigorissettoterra/100_days_of_Python/blob/main/Day9_of_100days.ipynb\" target=\"_parent\"><img src=\"https://colab.research.google.com/assets/colab-badge.svg\" alt=\"Open In Colab\"/></a>"
      ]
    },
    {
      "cell_type": "markdown",
      "source": [
        "#Project 9: Generation Generator"
      ],
      "metadata": {
        "id": "wUCtMeiaSObG"
      }
    },
    {
      "cell_type": "markdown",
      "source": [
        "What generation are you a part of?\n",
        "\n",
        "Use this list to guide you.</br></br>\n",
        "\n",
        "<table style=\"border-collapse: collapse; width: 100%;\">\n",
        "<tbody>\n",
        "<tr>\n",
        "<th style=\"width: 32.2495%; text-align: center;\">Generation Name</th>\n",
        "<th style=\"width: 34.7047%; text-align: center;\">Starting Birth Year</th>\n",
        "<th style=\"width: 32.9794%; text-align: center;\">Ending Birth Year</th>\n",
        "</tr>\n",
        "<tr>\n",
        "<td style=\"width: 32.2495%; text-align: center;\">Traditionalists</td>\n",
        "<td style=\"width: 34.7047%; text-align: center;\">1925</td>\n",
        "<td style=\"width: 32.9794%; text-align: center;\">1946</td>\n",
        "</tr>\n",
        "<tr>\n",
        "<td style=\"width: 32.2495%; text-align: center;\">Baby Boomers</td>\n",
        "<td style=\"width: 34.7047%; text-align: center;\">1947</td>\n",
        "<td style=\"width: 32.9794%; text-align: center;\">1964</td>\n",
        "</tr>\n",
        "<tr>\n",
        "<td style=\"width: 32.2495%; text-align: center;\">Generation X</td>\n",
        "<td style=\"width: 34.7047%; text-align: center;\">1965</td>\n",
        "<td style=\"width: 32.9794%; text-align: center;\">1981</td>\n",
        "</tr>\n",
        "<tr>\n",
        "<td style=\"width: 32.2495%; text-align: center;\">Millenials</td>\n",
        "<td style=\"width: 34.7047%; text-align: center;\">1982</td>\n",
        "<td style=\"width: 32.9794%; text-align: center;\">1995</td>\n",
        "</tr>\n",
        "<tr>\n",
        "<td style=\"width: 32.2495%; text-align: center;\">Generation Z</td>\n",
        "<td style=\"width: 34.7047%; text-align: center;\">1996</td>\n",
        "<td style=\"width: 32.9794%; text-align: center;\">2015</td>\n",
        "</tr>\n",
        "</tbody>\n",
        "</table>"
      ],
      "metadata": {
        "id": "kdySFwsAtw5q"
      }
    },
    {
      "cell_type": "markdown",
      "source": [
        "##1 - Have a user type in the year they were born."
      ],
      "metadata": {
        "id": "KSVQ3pYev11E"
      }
    },
    {
      "cell_type": "markdown",
      "source": [
        "##2 - Use their answer to tell them the generation they are a part of."
      ],
      "metadata": {
        "id": "JYN9hWmscBc3"
      }
    },
    {
      "cell_type": "markdown",
      "source": [
        "##3 - Add emojis or a fun statement to go along with the answers if you like."
      ],
      "metadata": {
        "id": "QVVhVMXucEv0"
      }
    },
    {
      "cell_type": "code",
      "source": [
        "year = input(\"Enter the year of your birth: \")\n",
        "\n",
        "if year.isnumeric():\n",
        "  year = int(year)\n",
        "  if year >= 1925 and year <= 1946:\n",
        "    print(\"The name of your generation is: Traditionalist - A generation anchored in time-honored values and principles, the traditionalists uphold a legacy of wisdom and steadfastness.\")\n",
        "  elif year >= 1947 and year <=  1964:\n",
        "    print(\"The name of your generation is: Baby Boomer - The generation that witnessed immense societal changes and contributed to shaping the world we live in today\")\n",
        "  elif year >= 1965 and year <=  1981:\n",
        "    print(\"The name of your generation is: Generation X - Often characterized as the resilient bridge between traditional values and the fast-paced evolution of modernity.\")\n",
        "  elif year >= 1982 and year <=  1995:\n",
        "    print(\"The name of your generation is: Millenial - A generation defined by their adaptability, tech-savviness, and commitment to innovation.\")\n",
        "  elif year >= 1996 and year <=  2015:\n",
        "    print(\"The name of your generation is: Generation Z - Characterized by its tech-savvy nature, forward-thinking mindset, and diverse perspectives shaping the future.\")\n",
        "  else:\n",
        "    print(\"You did not enter a valid year value.\")"
      ],
      "metadata": {
        "id": "ygMy_RpAeuEf",
        "outputId": "5aba331c-064f-47dc-e29e-4f497bf55bd0",
        "colab": {
          "base_uri": "https://localhost:8080/"
        }
      },
      "execution_count": 1,
      "outputs": [
        {
          "output_type": "stream",
          "name": "stdout",
          "text": [
            "Enter the year of your birth: 1983\n",
            "The name of your generation is: Millenial - A generation defined by their adaptability, tech-savviness, and commitment to innovation.\n"
          ]
        }
      ]
    },
    {
      "cell_type": "markdown",
      "source": [
        "##4 - Add one more line to your output You can follow my progress at [GitHub](https://github.com/rodrigorissettoterra/100_days_of_Python/blob/main/README.md)."
      ],
      "metadata": {
        "id": "FyA4dCozTZvJ"
      }
    },
    {
      "cell_type": "code",
      "source": [
        "print(\"You can follow my progress at:\"\"\"\n",
        "\"\"\"https://github.com/rodrigorissettoterra/100_days_of_Python/blob/main/README.md\"\"\")"
      ],
      "metadata": {
        "colab": {
          "base_uri": "https://localhost:8080/"
        },
        "id": "9cfq7jFSTTPg",
        "outputId": "f54d6903-6ba2-46e9-a10b-2b3f12857a68"
      },
      "execution_count": null,
      "outputs": [
        {
          "output_type": "stream",
          "name": "stdout",
          "text": [
            "You can follow my progress at:https://github.com/rodrigorissettoterra/100_days_of_Python/blob/main/README.md\n"
          ]
        }
      ]
    }
  ]
}