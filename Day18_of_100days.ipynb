{
  "cells": [
    {
      "cell_type": "markdown",
      "metadata": {
        "id": "view-in-github",
        "colab_type": "text"
      },
      "source": [
        "<a href=\"https://colab.research.google.com/github/rodrigorissettoterra/100_days_of_Python/blob/main/Day18_of_100days.ipynb\" target=\"_parent\"><img src=\"https://colab.research.google.com/assets/colab-badge.svg\" alt=\"Open In Colab\"/></a>"
      ]
    },
    {
      "cell_type": "markdown",
      "metadata": {
        "id": "wUCtMeiaSObG"
      },
      "source": [
        "#Project 18: Guess the Number"
      ]
    },
    {
      "cell_type": "markdown",
      "source": [
        "We are going to build a \"Guess the Number\" guessing game.\n",
        "\n",
        "You are going to use a while loop and some of the concepts from the past few days."
      ],
      "metadata": {
        "id": "sAEa42WYLyxW"
      }
    },
    {
      "cell_type": "markdown",
      "metadata": {
        "id": "CAiuKiBtC6r6"
      },
      "source": [
        "#1 - Start by picking a number between 0 and 1,000,000. This will be your first variable."
      ]
    },
    {
      "cell_type": "markdown",
      "metadata": {
        "id": "KSVQ3pYev11E"
      },
      "source": [
        "#2 - Create a while loop to keep asking the user to guess your number."
      ]
    },
    {
      "cell_type": "markdown",
      "metadata": {
        "id": "NvkDKtjXC_FU"
      },
      "source": [
        "#3 - If they are too low, tell them \"too low.\" If they guess too high tell, them \"too high.\""
      ]
    },
    {
      "cell_type": "markdown",
      "metadata": {
        "id": "ZQS7Ki5eDDAM"
      },
      "source": [
        "#4 - If the user guesses correctly, tell them they are a winner (maybe add a fun emoji too!)"
      ]
    },
    {
      "cell_type": "markdown",
      "metadata": {
        "id": "TAJQKetm6y2X"
      },
      "source": [
        "#5 - Count the number of attempts it took for the user to guess number. Make sure you only show that after they get the answer correct."
      ]
    },
    {
      "cell_type": "markdown",
      "source": [
        "#Extra challenge: If the user types a negative number, exit program."
      ],
      "metadata": {
        "id": "f8Y3VwDmMF4f"
      }
    },
    {
      "cell_type": "code",
      "execution_count": 1,
      "metadata": {
        "colab": {
          "base_uri": "https://localhost:8080/"
        },
        "id": "ygMy_RpAeuEf",
        "outputId": "4e7191a9-feea-4e06-f943-db31ea84a9ae"
      },
      "outputs": [
        {
          "output_type": "stream",
          "name": "stdout",
          "text": [
            "Guess the number between 0 and 1000000 (type a negative number to exit): \n",
            "500000\n",
            "Too high!\n",
            "Guess the number between 0 and 500000: \n",
            "250000\n",
            "Too high!\n",
            "Guess the number between 0 and 250000: \n",
            "125000\n",
            "Too high!\n",
            "Guess the number between 0 and 125000: \n",
            "62500\n",
            "Too low!\n",
            "Guess the number between 62500 and 125000: \n",
            "93750\n",
            "Too high!\n",
            "Guess the number between 62500 and 93750: \n",
            "78125\n",
            "Too high!\n",
            "Guess the number between 62500 and 78125: \n",
            "70312\n",
            "Too low!\n",
            "Guess the number between 70312 and 78125: \n",
            "75000\n",
            "Too high!\n",
            "Guess the number between 70312 and 75000: \n",
            "72000\n",
            "Too high!\n",
            "Guess the number between 70312 and 72000: \n",
            "71000\n",
            "Too high!\n",
            "Guess the number between 70312 and 71000: \n",
            "70500\n",
            "Too low!\n",
            "Guess the number between 70500 and 71000: \n",
            "70600\n",
            "Too high!\n",
            "Guess the number between 70500 and 70600: \n",
            "70550\n",
            "Too low!\n",
            "Guess the number between 70550 and 70600: \n",
            "70575\n",
            "Too low!\n",
            "Guess the number between 70575 and 70600: \n",
            "70590\n",
            "Too low!\n",
            "Guess the number between 70590 and 70600: \n",
            "70595\n",
            "Too high!\n",
            "Guess the number between 70590 and 70595: \n",
            "70591\n",
            "Too low!\n",
            "Guess the number between 70591 and 70595: \n",
            "70592\n",
            "Too low!\n",
            "Guess the number between 70592 and 70595: \n",
            "70593\n",
            "Too low!\n",
            "Guess the number between 70593 and 70595: \n",
            "70594\n",
            "Congratulations! You're the winner! 🎉\n",
            "It took you 20 attempts to guess the number.\n"
          ]
        }
      ],
      "source": [
        "import random\n",
        "\n",
        "secret_number = random.randint(0, 1000000)\n",
        "attempts = 0\n",
        "lower_bound = 0\n",
        "upper_bound = 1000000\n",
        "\n",
        "while True:\n",
        "    if attempts == 0:\n",
        "        print(f\"Guess the number between {lower_bound} and {upper_bound} (type a negative number to exit): \")\n",
        "    else:\n",
        "        print(f\"Guess the number between {lower_bound} and {upper_bound}: \")\n",
        "\n",
        "    guess = int(input())\n",
        "\n",
        "    if guess < 0:\n",
        "        print(\"Exiting the game...\")\n",
        "        break\n",
        "    elif guess > 1000000 or guess < lower_bound:\n",
        "        print(\"Your guess is out of range. Please guess between the specified range.\")\n",
        "        continue\n",
        "\n",
        "    attempts += 1\n",
        "\n",
        "    if guess < secret_number:\n",
        "        print(f\"Too low!\")\n",
        "        lower_bound = guess\n",
        "    elif guess > secret_number:\n",
        "        print(f\"Too high!\")\n",
        "        upper_bound = guess\n",
        "    else:\n",
        "        print(\"Congratulations! You're the winner! 🎉\")\n",
        "        print(f\"It took you {attempts} attempts to guess the number.\")\n",
        "        break"
      ]
    },
    {
      "cell_type": "markdown",
      "metadata": {
        "id": "FyA4dCozTZvJ"
      },
      "source": [
        "##Add one more line to your output You can follow my progress at [GitHub](https://github.com/rodrigorissettoterra/100_days_of_Python/blob/main/README.md)."
      ]
    },
    {
      "cell_type": "code",
      "execution_count": null,
      "metadata": {
        "colab": {
          "base_uri": "https://localhost:8080/"
        },
        "id": "9cfq7jFSTTPg",
        "outputId": "f54d6903-6ba2-46e9-a10b-2b3f12857a68"
      },
      "outputs": [
        {
          "name": "stdout",
          "output_type": "stream",
          "text": [
            "You can follow my progress at:https://github.com/rodrigorissettoterra/100_days_of_Python/blob/main/README.md\n"
          ]
        }
      ],
      "source": [
        "print(\"You can follow my progress at:\"\"\"\n",
        "\"\"\"https://github.com/rodrigorissettoterra/100_days_of_Python/blob/main/README.md\"\"\")"
      ]
    }
  ],
  "metadata": {
    "colab": {
      "provenance": [],
      "authorship_tag": "ABX9TyOkyueRWNlu4nc9k+jBaijl",
      "include_colab_link": true
    },
    "kernelspec": {
      "display_name": "Python 3",
      "name": "python3"
    },
    "language_info": {
      "name": "python"
    }
  },
  "nbformat": 4,
  "nbformat_minor": 0
}