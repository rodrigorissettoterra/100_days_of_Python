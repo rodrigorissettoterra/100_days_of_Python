{
  "nbformat": 4,
  "nbformat_minor": 0,
  "metadata": {
    "colab": {
      "provenance": [],
      "authorship_tag": "ABX9TyPW1e6kBma7d/byfIc1igGD",
      "include_colab_link": true
    },
    "kernelspec": {
      "name": "python3",
      "display_name": "Python 3"
    },
    "language_info": {
      "name": "python"
    }
  },
  "cells": [
    {
      "cell_type": "markdown",
      "metadata": {
        "id": "view-in-github",
        "colab_type": "text"
      },
      "source": [
        "<a href=\"https://colab.research.google.com/github/rodrigorissettoterra/100_days_of_Python/blob/main/Day14_of_100days.ipynb\" target=\"_parent\"><img src=\"https://colab.research.google.com/assets/colab-badge.svg\" alt=\"Open In Colab\"/></a>"
      ]
    },
    {
      "cell_type": "markdown",
      "source": [
        "#Project 14: 2 player 🪨📄✂️"
      ],
      "metadata": {
        "id": "wUCtMeiaSObG"
      }
    },
    {
      "cell_type": "markdown",
      "source": [
        "Today, you are going to build a rock, paper, scissors game.</br></br>\n",
        "Start with this code below to ensure that whenever you use input, each player cannot see what the other player typed in 😉:</br>\n",
        "<code>from getpass import getpass as input</code>"
      ],
      "metadata": {
        "id": "KSVQ3pYev11E"
      }
    },
    {
      "cell_type": "markdown",
      "source": [
        "##1 - For this version, you have two players. Player 1 and Player 2."
      ],
      "metadata": {
        "id": "F-mUIKULDrqW"
      }
    },
    {
      "cell_type": "markdown",
      "source": [
        "##2 - You will need to create if statements (and probably nesting) to decide who has won, lost or if the game is a tie."
      ],
      "metadata": {
        "id": "_B-X7XRlEpgv"
      }
    },
    {
      "cell_type": "code",
      "source": [
        "import random\n",
        "\n",
        "print(\"Enter:\")\n",
        "print(\"-> 1 to play against the computer\")\n",
        "print(\"-> 2 to play against another player\")\n",
        "enter = input(\"Your choice -> \")\n",
        "\n",
        "if enter == \"1\":\n",
        "  print(\"Ok, you chose to play against the computer.\")\n",
        "  name_player_1 = input(\"What is your name? \")\n",
        "  name_player_2 = \"Computer\"\n",
        "  start_player = int(random.randrange(1,3))\n",
        "  if start_player == 1:\n",
        "    print()\n",
        "    print(\"The player who will start the game will be:\",name_player_1)\n",
        "    print()\n",
        "    print(name_player_1)\n",
        "    choose_1 = input(\"Choose rock (1), paper (2) or scissors (3): \")\n",
        "    print()\n",
        "    print(name_player_2)\n",
        "    choose_2 = print(\"Choose rock (1), paper (2) or scissors (3): \")\n",
        "    choose_2 = random.randrange(1,4)\n",
        "    print()\n",
        "\n",
        "    choose_1 = int(choose_1)\n",
        "    choose_2 = int(choose_2)\n",
        "\n",
        "    print(\"THE RESULT:\")\n",
        "    if choose_1 == choose_2:\n",
        "      print(\"WE HAVE A TIE\")\n",
        "\n",
        "    if (choose_1) == 1 and (choose_2) == 2:\n",
        "      print(name_player_1,\"chose: ROCK\")\n",
        "      print(name_player_2,\"chose: PAPER\")\n",
        "      print(\"***\",name_player_2.upper(), \"WON!***\")\n",
        "\n",
        "    if (choose_1) == 1 and (choose_2) == 3:\n",
        "      print(name_player_1,\"chose: ROCK\")\n",
        "      print(name_player_2,\"chose: SCISSORS\")\n",
        "      print(\"***\",name_player_1.upper(), \"WON!***\")\n",
        "\n",
        "    if (choose_1) == 2 and (choose_2) == 1:\n",
        "      print(name_player_1,\"chose: PAPER\")\n",
        "      print(name_player_2,\"chose: ROCK\")\n",
        "      print(\"***\",name_player_1.upper(), \"WON!***\")\n",
        "\n",
        "    if (choose_1) == 2 and (choose_2) == 3:\n",
        "      print(name_player_1,\"chose: PAPER\")\n",
        "      print(name_player_2,\"chose: SCISSORS\")\n",
        "      print(\"***\",name_player_2.upper(), \"WON!***\")\n",
        "\n",
        "    if (choose_1) == 3 and (choose_2) == 1:\n",
        "      print(name_player_1,\"chose: SCISSORS\")\n",
        "      print(name_player_2,\"chose: ROCK\")\n",
        "      print(\"***\",name_player_2.upper(), \"WON!***\")\n",
        "\n",
        "    if (choose_1) == 3 and (choose_2) == 2:\n",
        "      print(name_player_1,\"chose: SCISSORS\")\n",
        "      print(name_player_2,\"chose: PAPER\")\n",
        "      print(\"***\",name_player_1.upper(), \"WON!***\")\n",
        "\n",
        "\n",
        "  elif start_player == 2:\n",
        "    print()\n",
        "    print(\"The player who will start the game will be:\",name_player_2)\n",
        "    print()\n",
        "    print(name_player_2)\n",
        "    choose_2 = print(\"Choose rock (1), paper (2) or scissors (3): \")\n",
        "    choose_2 = random.randrange(1,4)\n",
        "    print()\n",
        "    print(name_player_1)\n",
        "    choose_1 = input(\"Choose rock (1), paper (2) or scissors (3): \")\n",
        "    print()\n",
        "\n",
        "    choose_1 = int(choose_1)\n",
        "    choose_2 = int(choose_2)\n",
        "\n",
        "    print(\"THE RESULT:\")\n",
        "    if choose_1 == choose_2:\n",
        "      print(\"WE HAVE A TIE\")\n",
        "\n",
        "    if int(choose_1) == 1 and int(choose_2) == 2:\n",
        "      print(name_player_1,\"chose: ROCK\")\n",
        "      print(name_player_2,\"chose: PAPER\")\n",
        "      print(\"***\",name_player_2.upper(), \"WON!***\")\n",
        "\n",
        "    if int(choose_1) == 1 and int(choose_2) == 3:\n",
        "      print(name_player_1,\"chose: ROCK\")\n",
        "      print(name_player_2,\"chose: SCISSORS\")\n",
        "      print(\"***\",name_player_1.upper(), \"WON!***\")\n",
        "\n",
        "    if int(choose_1) == 2 and int(choose_2) == 1:\n",
        "      print(name_player_1,\"chose: PAPER\")\n",
        "      print(name_player_2,\"chose: ROCK\")\n",
        "      print(\"***\",name_player_1.upper(), \"WON!***\")\n",
        "\n",
        "    if int(choose_1) == 2 and int(choose_2) == 3:\n",
        "      print(name_player_1,\"chose: PAPER\")\n",
        "      print(name_player_2,\"chose: SCISSORS\")\n",
        "      print(\"***\",name_player_2.upper(), \"WON!***\")\n",
        "\n",
        "    if int(choose_1) == 3 and int(choose_2) == 1:\n",
        "      print(name_player_1,\"chose: SCISSORS\")\n",
        "      print(name_player_2,\"chose: ROCK\")\n",
        "      print(\"***\",name_player_2.upper(), \"WON!***\")\n",
        "\n",
        "    if int(choose_1) == 3 and int(choose_2) == 2:\n",
        "      print(name_player_1,\"chose: SCISSORS\")\n",
        "      print(name_player_2,\"chose: PAPER\")\n",
        "      print(\"***\",name_player_1.upper(), \"WON!***\")\n",
        "\n",
        "elif enter == \"2\":\n",
        "  start_player = int(random.randrange(1,3))\n",
        "  name_player_1 = input(\"Whats is player 1's name?  \")\n",
        "  name_player_2 = input(\"Whats is player 2's name? \")\n",
        "  if start_player == 1:\n",
        "    print()\n",
        "    print(\"The player who will start the game will be:\",name_player_1)\n",
        "    print()\n",
        "    print(name_player_1)\n",
        "    choose_1 = input(\"Choose rock (1), paper (2) or scissors (3): \")\n",
        "    print()\n",
        "    print(name_player_2)\n",
        "    choose_2 = input(\"Choose rock (1), paper (2) or scissors (3): \")\n",
        "    print()\n",
        "\n",
        "    choose_1 = int(choose_1)\n",
        "    choose_2 = int(choose_2)\n",
        "\n",
        "    print(\"THE RESULT:\")\n",
        "    if choose_1 == choose_2:\n",
        "      print(\"WE HAVE A TIE\")\n",
        "\n",
        "    if int(choose_1) == 1 and int(choose_2) == 2:\n",
        "      print(name_player_1,\"chose: ROCK\")\n",
        "      print(name_player_2,\"chose: PAPER\")\n",
        "      print(\"***\",name_player_2.upper(), \"WON!***\")\n",
        "\n",
        "    if int(choose_1) == 1 and int(choose_2) == 3:\n",
        "      print(name_player_1,\"chose: ROCK\")\n",
        "      print(name_player_2,\"chose: SCISSORS\")\n",
        "      print(\"***\",name_player_1.upper(), \"WON!***\")\n",
        "\n",
        "    if int(choose_1) == 2 and int(choose_2) == 1:\n",
        "      print(name_player_1,\"chose: PAPER\")\n",
        "      print(name_player_2,\"chose: ROCK\")\n",
        "      print(\"***\",name_player_1.upper(), \"WON!***\")\n",
        "\n",
        "    if int(choose_1) == 2 and int(choose_2) == 3:\n",
        "      print(name_player_1,\"chose: PAPER\")\n",
        "      print(name_player_2,\"chose: SCISSORS\")\n",
        "      print(\"***\",name_player_2.upper(), \"WON!***\")\n",
        "\n",
        "    if int(choose_1) == 3 and int(choose_2) == 1:\n",
        "      print(name_player_1,\"chose: SCISSORS\")\n",
        "      print(name_player_2,\"chose: ROCK\")\n",
        "      print(\"***\",name_player_2.upper(), \"WON!***\")\n",
        "\n",
        "    if int(choose_1) == 3 and int(choose_2) == 2:\n",
        "      print(name_player_1,\"chose: SCISSORS\")\n",
        "      print(name_player_2,\"chose: PAPER\")\n",
        "      print(\"***\",name_player_1.upper(), \"WON!***\")\n",
        "\n",
        "  elif start_player == 2:\n",
        "    print()\n",
        "    print(\"The player who will start the game will be:\",name_player_2)\n",
        "    print()\n",
        "    print(name_player_2)\n",
        "    choose_2 = input(\"Choose rock (1), paper (2) or scissors (3): \")\n",
        "    print()\n",
        "    print(name_player_1)\n",
        "    choose_1 = input(\"Choose rock (1), paper (2) or scissors (3): \")\n",
        "    print()\n",
        "\n",
        "    choose_1 = int(choose_1)\n",
        "    choose_2 = int(choose_2)\n",
        "\n",
        "    print(\"THE RESULT:\")\n",
        "    if choose_1 == choose_2:\n",
        "      print(\"WE HAVE A TIE\")\n",
        "\n",
        "    if int(choose_1) == 1 and int(choose_2) == 2:\n",
        "      print(name_player_1,\"chose: ROCK\")\n",
        "      print(name_player_2,\"chose: PAPER\")\n",
        "      print(\"***\",name_player_2.upper(), \"WON!***\")\n",
        "\n",
        "    if int(choose_1) == 1 and int(choose_2) == 3:\n",
        "      print(name_player_1,\"chose: ROCK\")\n",
        "      print(name_player_2,\"chose: SCISSORS\")\n",
        "      print(\"***\",name_player_1.upper(), \"WON!***\")\n",
        "\n",
        "    if int(choose_1) == 2 and int(choose_2) == 1:\n",
        "      print(name_player_1,\"chose: PAPER\")\n",
        "      print(name_player_2,\"chose: ROCK\")\n",
        "      print(\"***\",name_player_1.upper(), \"WON!***\")\n",
        "\n",
        "    if int(choose_1) == 2 and int(choose_2) == 3:\n",
        "      print(name_player_1,\"chose: PAPER\")\n",
        "      print(name_player_2,\"chose: SCISSORS\")\n",
        "      print(\"***\",name_player_2.upper(), \"WON!***\")\n",
        "\n",
        "    if int(choose_1) == 3 and int(choose_2) == 1:\n",
        "      print(name_player_1,\"chose: SCISSORS\")\n",
        "      print(name_player_2,\"chose: ROCK\")\n",
        "      print(\"***\",name_player_2.upper(), \"WON!***\")\n",
        "\n",
        "    if int(choose_1) == 3 and int(choose_2) == 2:\n",
        "      print(name_player_1,\"chose: SCISSORS\")\n",
        "      print(name_player_2,\"chose: PAPER\")\n",
        "      print(\"***\",name_player_1.upper(), \"WON!***\")\n",
        "\n",
        "else:\n",
        "  print(\"Invalid option\")"
      ],
      "metadata": {
        "id": "ygMy_RpAeuEf",
        "colab": {
          "base_uri": "https://localhost:8080/"
        },
        "outputId": "029a88f2-63de-4cad-a831-49f074fb4a0f"
      },
      "execution_count": 37,
      "outputs": [
        {
          "output_type": "stream",
          "name": "stdout",
          "text": [
            "Enter:\n",
            "-> 1 to play against the computer\n",
            "-> 2 to play against another player\n",
            "Your choice -> 2\n",
            "Whats is player 1's name?  RODRIGO\n",
            "Whats is player 2's name? BRUNA\n",
            "\n",
            "The player who will start the game will be: BRUNA\n",
            "\n",
            "BRUNA\n",
            "Choose rock (1), paper (2) or scissors (3): 3\n",
            "\n",
            "RODRIGO\n",
            "Choose rock (1), paper (2) or scissors (3): 2\n",
            "\n",
            "THE RESULT:\n",
            "RODRIGO chose: PAPER\n",
            "BRUNA chose: SCISSORS\n",
            "*** BRUNA WON!***\n"
          ]
        }
      ]
    },
    {
      "cell_type": "markdown",
      "source": [
        "##Add one more line to your output You can follow my progress at [GitHub](https://github.com/rodrigorissettoterra/100_days_of_Python/blob/main/README.md)."
      ],
      "metadata": {
        "id": "FyA4dCozTZvJ"
      }
    },
    {
      "cell_type": "code",
      "source": [
        "print(\"You can follow my progress at:\"\"\"\n",
        "\"\"\"https://github.com/rodrigorissettoterra/100_days_of_Python/blob/main/README.md\"\"\")"
      ],
      "metadata": {
        "colab": {
          "base_uri": "https://localhost:8080/"
        },
        "id": "9cfq7jFSTTPg",
        "outputId": "f54d6903-6ba2-46e9-a10b-2b3f12857a68"
      },
      "execution_count": null,
      "outputs": [
        {
          "output_type": "stream",
          "name": "stdout",
          "text": [
            "You can follow my progress at:https://github.com/rodrigorissettoterra/100_days_of_Python/blob/main/README.md\n"
          ]
        }
      ]
    }
  ]
}