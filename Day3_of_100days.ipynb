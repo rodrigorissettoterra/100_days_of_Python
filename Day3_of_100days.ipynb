{
  "nbformat": 4,
  "nbformat_minor": 0,
  "metadata": {
    "colab": {
      "provenance": [],
      "authorship_tag": "ABX9TyPib5iSNrADXt4qHBnkoNVh",
      "include_colab_link": true
    },
    "kernelspec": {
      "name": "python3",
      "display_name": "Python 3"
    },
    "language_info": {
      "name": "python"
    }
  },
  "cells": [
    {
      "cell_type": "markdown",
      "metadata": {
        "id": "view-in-github",
        "colab_type": "text"
      },
      "source": [
        "<a href=\"https://colab.research.google.com/github/rodrigorissettoterra/100_days_of_Python/blob/main/Day3_of_100days.ipynb\" target=\"_parent\"><img src=\"https://colab.research.google.com/assets/colab-badge.svg\" alt=\"Open In Colab\"/></a>"
      ]
    },
    {
      "cell_type": "markdown",
      "source": [
        "#Project 3: The Ultimate Wacky Recipe Maker"
      ],
      "metadata": {
        "id": "wUCtMeiaSObG"
      }
    },
    {
      "cell_type": "markdown",
      "source": [
        "##1 - Create these as a variable"
      ],
      "metadata": {
        "id": "0X2zCUzeSbp-"
      }
    },
    {
      "cell_type": "markdown",
      "source": [
        "Remember when you were a kid and thought the ideal dinner would just be all your favorite things mixed in a bowl? How did that Nutella Mac & Cheese taste? Well - let's come up with a recipe generator to build us an amazing dish for today's evening meal!\n",
        "\n",
        "You will need to:\n",
        "\n",
        "Create these as a variable:\n",
        "-        A type of food\n",
        "-        A type of plant\n",
        "-        A method of cooking\n",
        "-        A word to describe burned food\n",
        "-        A household item\n"
      ],
      "metadata": {
        "id": "npcUcAc4qiA9"
      }
    },
    {
      "cell_type": "code",
      "execution_count": 16,
      "metadata": {
        "colab": {
          "base_uri": "https://localhost:8080/"
        },
        "id": "sZR-iLNhSDUk",
        "outputId": "779627a4-8633-41a6-e23e-7be016b81ef7"
      },
      "outputs": [
        {
          "name": "stdout",
          "output_type": "stream",
          "text": [
            "Name a food: rib\n",
            "Name a plant: orchid\n",
            "Name a method of cooking: Frying\n",
            "What word describes burned food? ruined\n",
            "Name a DIY item: screw\n"
          ]
        }
      ],
      "source": [
        "food = input(\"Name a food: \")\n",
        "plant = input(\"Name a plant: \")\n",
        "cook = input(\"Name a method of cooking: \")\n",
        "burned = input(\"What word describes burned food? \")\n",
        "diy = input(\"Name a DIY item: \")"
      ]
    },
    {
      "cell_type": "markdown",
      "source": [
        "##2 - Output a nice looking Recipe page that *concatenates* a dish in this format"
      ],
      "metadata": {
        "id": "Cv9-I_B7SuJ9"
      }
    },
    {
      "cell_type": "markdown",
      "source": [
        "cooking food with burned plant on a bed of item\n"
      ],
      "metadata": {
        "id": "f4yoERG4q1ao"
      }
    },
    {
      "cell_type": "code",
      "source": [
        "print(\"MENU\")\n",
        "print(cook, food, \"with\", burned, plant, \"on a bed of\", diy)"
      ],
      "metadata": {
        "colab": {
          "base_uri": "https://localhost:8080/"
        },
        "id": "5mtGTmJWSqR9",
        "outputId": "2f04b1cb-2c7f-4f63-dd98-813cb1852462"
      },
      "execution_count": 17,
      "outputs": [
        {
          "output_type": "stream",
          "name": "stdout",
          "text": [
            "MENU\n",
            "Frying rib with ruined orchid on a bed of screw\n"
          ]
        }
      ]
    },
    {
      "cell_type": "markdown",
      "source": [
        "##3 - Add one more line to your output You can follow my progress at [GitHub](https://github.com/rodrigorissettoterra/100_days_of_Python/blob/main/README.md)."
      ],
      "metadata": {
        "id": "FyA4dCozTZvJ"
      }
    },
    {
      "cell_type": "code",
      "source": [
        "print(\"You can follow my progress at:\"\"\"\n",
        "\"\"\"https://github.com/rodrigorissettoterra/100_days_of_Python/blob/main/README.md\"\"\")"
      ],
      "metadata": {
        "colab": {
          "base_uri": "https://localhost:8080/"
        },
        "id": "9cfq7jFSTTPg",
        "outputId": "f54d6903-6ba2-46e9-a10b-2b3f12857a68"
      },
      "execution_count": 6,
      "outputs": [
        {
          "output_type": "stream",
          "name": "stdout",
          "text": [
            "You can follow my progress at:https://github.com/rodrigorissettoterra/100_days_of_Python/blob/main/README.md\n"
          ]
        }
      ]
    }
  ]
}