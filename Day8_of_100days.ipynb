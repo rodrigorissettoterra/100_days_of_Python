{
  "nbformat": 4,
  "nbformat_minor": 0,
  "metadata": {
    "colab": {
      "provenance": [],
      "authorship_tag": "ABX9TyOSRHeduhI/sCcoCzhN7whn",
      "include_colab_link": true
    },
    "kernelspec": {
      "name": "python3",
      "display_name": "Python 3"
    },
    "language_info": {
      "name": "python"
    }
  },
  "cells": [
    {
      "cell_type": "markdown",
      "metadata": {
        "id": "view-in-github",
        "colab_type": "text"
      },
      "source": [
        "<a href=\"https://colab.research.google.com/github/rodrigorissettoterra/100_days_of_Python/blob/main/Day8_of_100days.ipynb\" target=\"_parent\"><img src=\"https://colab.research.google.com/assets/colab-badge.svg\" alt=\"Open In Colab\"/></a>"
      ]
    },
    {
      "cell_type": "markdown",
      "source": [
        "#Project 8: Affirmations (or insults) Generator"
      ],
      "metadata": {
        "id": "wUCtMeiaSObG"
      }
    },
    {
      "cell_type": "markdown",
      "source": [
        "Today's focus is using all the skills you have learned so far:\n",
        "\n",
        "-    input and output\n",
        "-    concatenation\n",
        "-    if statements\n",
        "-    nested if statements\n",
        "\n",
        "Build a custom affirmations generator to give the user a customized affirmation each day of the week."
      ],
      "metadata": {
        "id": "kdySFwsAtw5q"
      }
    },
    {
      "cell_type": "markdown",
      "source": [
        "##1 - Make sure you ask the user for their name, the current day of the week, and a few of their favorite things. All of this information should be used to help you build your affirmations."
      ],
      "metadata": {
        "id": "0X2zCUzeSbp-"
      }
    },
    {
      "cell_type": "markdown",
      "source": [
        "##2 - The goal is to generate a unique message for each day of the week based on the user's answers."
      ],
      "metadata": {
        "id": "MLWbUmVBmEv-"
      }
    },
    {
      "cell_type": "markdown",
      "source": [
        "##3 - Use concatenation to generate the affirmation."
      ],
      "metadata": {
        "id": "O2ORAn7b28a9"
      }
    },
    {
      "cell_type": "markdown",
      "source": [
        "##4 - If affirmations are not your jam, then you could do a daily joke or insult. Please don't be mean. Keep it light and funny."
      ],
      "metadata": {
        "id": "KSVQ3pYev11E"
      }
    },
    {
      "cell_type": "markdown",
      "source": [
        "##5 - Final challenge: Can you create if statements that do not care about capital or lowercase letters of names."
      ],
      "metadata": {
        "id": "U71Bzv7Gv1ju"
      }
    },
    {
      "cell_type": "code",
      "source": [
        "Name = input(\"What is your name? \").upper()\n",
        "DayOfWeek = input(\"What day of the week is it? \").upper()\n",
        "FavouriteFood = input(\"What is your favourite food? \")\n",
        "\n",
        "if DayOfWeek == \"MONDAY\":\n",
        "  MondayAnswer = input(f\"{Name}, Don't you agree with me that no one should leave the house on Monday, even if it's to eat {FavouriteFood}? \").upper()\n",
        "  if MondayAnswer == \"YES\":\n",
        "    print(f\"Yeah, let´s go home and order {FavouriteFood} then.\")\n",
        "  else:\n",
        "    print(\"I´m sorry, but I don´t think that you should leave the house on Monday.\")\n",
        "\n",
        "if DayOfWeek == \"TUESDAY\":\n",
        "  TuesdayAnswer = input(f\"{Name}, Don't you agree with me that Tuesdays are for savoring delightful flavors and relishing the joyous dance of ingredients on our plates. Let´s eat {FavouriteFood}? \").upper()\n",
        "  if TuesdayAnswer == \"YES\":\n",
        "    print(f\"Yeah, let´s go home and order {FavouriteFood} then.\")\n",
        "  else:\n",
        "    print(\"I´m sorry, but this conversation made me hungry.\")\n",
        "\n",
        "if DayOfWeek == \"WEDNESDAY\":\n",
        "  WednesdayAnswer = input(f\"{Name}, Don't you agree with me that {FavouriteFood} is the best thing ever? \").upper()\n",
        "  if WednesdayAnswer == \"YES\":\n",
        "    print(f\"Yeah, let´s go home and order {FavouriteFood} then.\")\n",
        "  else:\n",
        "    print(\"I´m sorry, but I think you wrong!\")\n",
        "\n",
        "if DayOfWeek == \"THURSDAY\":\n",
        "  ThursdayAnswer = input(f\"{Name}, Don't you agree with me that Thursday is a day for embracing possibilities and making strides towards our goals. Our goals could be eating {FavouriteFood}! Don't you agree? \").upper()\n",
        "  if ThursdayAnswer == \"YES\":\n",
        "    print(f\"Yeah, let´s eat {FavouriteFood} then.\")\n",
        "  else:\n",
        "    print(\"I´m sorry, but I´m hungry.\")\n",
        "\n",
        "if DayOfWeek == \"FRIDAY\":\n",
        "  FridayAnswer = input(f\"{Name}, Don't you agree with me that Friday is the golden gateway to the weekend's adventures and the sparkle that ignites our weekend joy. Let's start by eating {FavouriteFood}? \").upper()\n",
        "  if FridayAnswer == \"YES\":\n",
        "    print(f\"Yeah, let´s find a good restaurant and order {FavouriteFood} then.\")\n",
        "  else:\n",
        "    print(\"I´m sorry, but you are wrong!\")\n",
        "\n",
        "if DayOfWeek == \"SATURDAY\":\n",
        "  SaturdayAnswer = input(f\"{Name}, Don't you agree with me that Saturday is the day when possibilities bloom and adventures beckon under the guise of a relaxed sunrise. Let's start by eating {FavouriteFood}? \").upper()\n",
        "  if SaturdayAnswer == \"YES\":\n",
        "    print(f\"Yeah, let´s find a good restaurant and order {FavouriteFood} then.\")\n",
        "  else:\n",
        "    print(\"I´m sorry, but you are wrong!\")\n",
        "\n",
        "if DayOfWeek == \"SUNDAY\":\n",
        "  SundayAnswer = input(f\"{Name}, Don't you agree with me that Sunday is a day made for lazy mornings, cozy blankets, and embracing the tranquil whispers of relaxation. How about we cook {FavouriteFood}? \").upper()\n",
        "  if SundayAnswer == \"YES\":\n",
        "    print(f\"Yeah, let´s go home and cook {FavouriteFood} then.\")\n",
        "  else:\n",
        "    print(\"I´m sorry, but you are wrong!\")"
      ],
      "metadata": {
        "colab": {
          "base_uri": "https://localhost:8080/"
        },
        "id": "zJgAz3rSv1b1",
        "outputId": "81443bc4-92c0-4215-9865-69af4c2bdb4a"
      },
      "execution_count": 37,
      "outputs": [
        {
          "output_type": "stream",
          "name": "stdout",
          "text": [
            "What is your name? Rodrigo\n",
            "What day of the week is it? Tuesday\n",
            "What is your favourite food? Pasta\n",
            "RODRIGO, Don't you agree with me that Tuesdays are for savoring delightful flavors and relishing the joyous dance of ingredients on our plates. Let´s eat Pasta? yes\n",
            "Yeah, let´s go home and order Pasta then.\n"
          ]
        }
      ]
    },
    {
      "cell_type": "markdown",
      "source": [
        "##6 - Add one more line to your output You can follow my progress at [GitHub](https://github.com/rodrigorissettoterra/100_days_of_Python/blob/main/README.md)."
      ],
      "metadata": {
        "id": "FyA4dCozTZvJ"
      }
    },
    {
      "cell_type": "code",
      "source": [
        "print(\"You can follow my progress at:\"\"\"\n",
        "\"\"\"https://github.com/rodrigorissettoterra/100_days_of_Python/blob/main/README.md\"\"\")"
      ],
      "metadata": {
        "colab": {
          "base_uri": "https://localhost:8080/"
        },
        "id": "9cfq7jFSTTPg",
        "outputId": "f54d6903-6ba2-46e9-a10b-2b3f12857a68"
      },
      "execution_count": 6,
      "outputs": [
        {
          "output_type": "stream",
          "name": "stdout",
          "text": [
            "You can follow my progress at:https://github.com/rodrigorissettoterra/100_days_of_Python/blob/main/README.md\n"
          ]
        }
      ]
    }
  ]
}