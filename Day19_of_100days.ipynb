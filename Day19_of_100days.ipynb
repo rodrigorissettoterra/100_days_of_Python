{
  "cells": [
    {
      "cell_type": "markdown",
      "metadata": {
        "id": "view-in-github",
        "colab_type": "text"
      },
      "source": [
        "<a href=\"https://colab.research.google.com/github/rodrigorissettoterra/100_days_of_Python/blob/main/Day19_of_100days.ipynb\" target=\"_parent\"><img src=\"https://colab.research.google.com/assets/colab-badge.svg\" alt=\"Open In Colab\"/></a>"
      ]
    },
    {
      "cell_type": "markdown",
      "metadata": {
        "id": "wUCtMeiaSObG"
      },
      "source": [
        "#Project 19: Borrowing some money"
      ]
    },
    {
      "cell_type": "markdown",
      "source": [
        "A common thing people do is borrow money. When people repay money, they pay interest which is paid back annually and added to the original amount the person borrowed.\n",
        "\n",
        "You are going to create a loan calculator that shows how much money you owe for a loan of $1,000 with a 5% APR (APR is fancy for Annual Percentage Rate) over 10 years.\n",
        "\n",
        "This means each year the amount of money you owe will increase 5%.\n",
        "\n",
        "Figure out how much you owe altogether for 10 years?\n",
        "\n",
        "Use a for loop and one or two lines of looped code to determine the answer. (Hint: Don't make this overcomplicated. It should only be a few lines of code altogether.)"
      ],
      "metadata": {
        "id": "sAEa42WYLyxW"
      }
    },
    {
      "cell_type": "code",
      "execution_count": 1,
      "metadata": {
        "colab": {
          "base_uri": "https://localhost:8080/"
        },
        "id": "ygMy_RpAeuEf",
        "outputId": "f28d1f0a-ab50-4e9a-c5dd-b01ee2889601"
      },
      "outputs": [
        {
          "output_type": "stream",
          "name": "stdout",
          "text": [
            "Enter the amount borrowed: $ 1000\n",
            "Enter the annual percentage rate (APR): 5\n",
            "Enter the loan time (in years): 10\n",
            "Year 1: $ 1050.0\n",
            "Year 2: $ 1102.5\n",
            "Year 3: $ 1157.62\n",
            "Year 4: $ 1215.51\n",
            "Year 5: $ 1276.28\n",
            "Year 6: $ 1340.1\n",
            "Year 7: $ 1407.1\n",
            "Year 8: $ 1477.46\n",
            "Year 9: $ 1551.33\n",
            "Year 10: $ 1628.89\n"
          ]
        }
      ],
      "source": [
        "amount_borrowed = float(input(\"Enter the amount borrowed: $ \"))\n",
        "apr = int(input(\"Enter the annual percentage rate (APR): \"))\n",
        "loan_time_year = int(input(\"Enter the loan time (in years): \"))\n",
        "\n",
        "for i in range(loan_time_year):\n",
        "  amount_borrowed += amount_borrowed * (apr/100)\n",
        "  print(f\"Year {i+1}: $\", round(amount_borrowed, 2))"
      ]
    },
    {
      "cell_type": "markdown",
      "metadata": {
        "id": "FyA4dCozTZvJ"
      },
      "source": [
        "##Add one more line to your output You can follow my progress at [GitHub](https://github.com/rodrigorissettoterra/100_days_of_Python/blob/main/README.md)."
      ]
    },
    {
      "cell_type": "code",
      "execution_count": null,
      "metadata": {
        "colab": {
          "base_uri": "https://localhost:8080/"
        },
        "id": "9cfq7jFSTTPg",
        "outputId": "f54d6903-6ba2-46e9-a10b-2b3f12857a68"
      },
      "outputs": [
        {
          "name": "stdout",
          "output_type": "stream",
          "text": [
            "You can follow my progress at:https://github.com/rodrigorissettoterra/100_days_of_Python/blob/main/README.md\n"
          ]
        }
      ],
      "source": [
        "print(\"You can follow my progress at:\"\"\"\n",
        "\"\"\"https://github.com/rodrigorissettoterra/100_days_of_Python/blob/main/README.md\"\"\")"
      ]
    }
  ],
  "metadata": {
    "colab": {
      "provenance": [],
      "authorship_tag": "ABX9TyPxrgP4j6sbgubJz8J+d9Kv",
      "include_colab_link": true
    },
    "kernelspec": {
      "display_name": "Python 3",
      "name": "python3"
    },
    "language_info": {
      "name": "python"
    }
  },
  "nbformat": 4,
  "nbformat_minor": 0
}