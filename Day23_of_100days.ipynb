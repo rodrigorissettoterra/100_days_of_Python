{
  "cells": [
    {
      "cell_type": "markdown",
      "metadata": {
        "id": "view-in-github",
        "colab_type": "text"
      },
      "source": [
        "<a href=\"https://colab.research.google.com/github/rodrigorissettoterra/100_days_of_Python/blob/main/Day23_of_100days.ipynb\" target=\"_parent\"><img src=\"https://colab.research.google.com/assets/colab-badge.svg\" alt=\"Open In Colab\"/></a>"
      ]
    },
    {
      "cell_type": "markdown",
      "metadata": {
        "id": "wUCtMeiaSObG"
      },
      "source": [
        "#Project 23: Login System"
      ]
    },
    {
      "cell_type": "markdown",
      "source": [
        "##1 - Create a subroutine with both a username and password."
      ],
      "metadata": {
        "id": "3LZEzIBgVBiL"
      }
    },
    {
      "cell_type": "markdown",
      "source": [
        "##2 - Create a loop to prompt the user again and again until they put in the correct login information."
      ],
      "metadata": {
        "id": "BLTpjQVmVDfs"
      }
    },
    {
      "cell_type": "code",
      "execution_count": null,
      "metadata": {
        "colab": {
          "base_uri": "https://localhost:8080/"
        },
        "id": "ygMy_RpAeuEf",
        "outputId": "d9f3fec4-bd2a-49c8-8768-35f1d3870c0b"
      },
      "outputs": [
        {
          "output_type": "stream",
          "name": "stdout",
          "text": [
            "Replit Login System\n",
            "\n",
            "What is your username? -> blamas\n",
            "What is your password? -> blamas\n",
            "Whoops! I don't recognize that username or password. Try again!\n",
            "\n",
            "What is your username? -> rodrigo\n",
            "What is your password? -> baldies4life\n",
            "\n",
            "Welcome to Replit!\n"
          ]
        }
      ],
      "source": [
        "def login(username, password):\n",
        "  while username != \"rodrigo\" and password != \"baldies4life\":\n",
        "    print(\"Whoops! I don't recognize that username or password. Try again!\")\n",
        "    print()\n",
        "    username=input(\"What is your username? -> \")\n",
        "    password=input(\"What is your password? -> \")\n",
        "    login(username, password)\n",
        "    if username == \"rodrigo\" and password == \"baldies4life\":\n",
        "      print()\n",
        "      print(\"Welcome to Replit!\")\n",
        "\n",
        "print(\"Replit Login System\")\n",
        "print()\n",
        "username=input(\"What is your username? -> \")\n",
        "password=input(\"What is your password? -> \")\n",
        "\n",
        "login(username,password)"
      ]
    },
    {
      "cell_type": "markdown",
      "metadata": {
        "id": "FyA4dCozTZvJ"
      },
      "source": [
        "##Add one more line to your output You can follow my progress at [GitHub](https://github.com/rodrigorissettoterra/100_days_of_Python/blob/main/README.md)."
      ]
    },
    {
      "cell_type": "code",
      "execution_count": null,
      "metadata": {
        "colab": {
          "base_uri": "https://localhost:8080/"
        },
        "id": "9cfq7jFSTTPg",
        "outputId": "f54d6903-6ba2-46e9-a10b-2b3f12857a68"
      },
      "outputs": [
        {
          "name": "stdout",
          "output_type": "stream",
          "text": [
            "You can follow my progress at:https://github.com/rodrigorissettoterra/100_days_of_Python/blob/main/README.md\n"
          ]
        }
      ],
      "source": [
        "print(\"You can follow my progress at:\"\"\"\n",
        "\"\"\"https://github.com/rodrigorissettoterra/100_days_of_Python/blob/main/README.md\"\"\")"
      ]
    }
  ],
  "metadata": {
    "colab": {
      "provenance": [],
      "authorship_tag": "ABX9TyOalQYewckITMrSEo+AiaCj",
      "include_colab_link": true
    },
    "kernelspec": {
      "display_name": "Python 3",
      "name": "python3"
    },
    "language_info": {
      "name": "python"
    }
  },
  "nbformat": 4,
  "nbformat_minor": 0
}