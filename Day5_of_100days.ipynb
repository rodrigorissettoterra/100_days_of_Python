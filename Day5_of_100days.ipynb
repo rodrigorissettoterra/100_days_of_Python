{
  "nbformat": 4,
  "nbformat_minor": 0,
  "metadata": {
    "colab": {
      "provenance": [],
      "authorship_tag": "ABX9TyMXvTDPjbpTMtwWgNYdZ//m",
      "include_colab_link": true
    },
    "kernelspec": {
      "name": "python3",
      "display_name": "Python 3"
    },
    "language_info": {
      "name": "python"
    }
  },
  "cells": [
    {
      "cell_type": "markdown",
      "metadata": {
        "id": "view-in-github",
        "colab_type": "text"
      },
      "source": [
        "<a href=\"https://colab.research.google.com/github/rodrigorissettoterra/100_days_of_Python/blob/main/Day5_of_100days.ipynb\" target=\"_parent\"><img src=\"https://colab.research.google.com/assets/colab-badge.svg\" alt=\"Open In Colab\"/></a>"
      ]
    },
    {
      "cell_type": "markdown",
      "source": [
        "#Project 5: \"Which character are you?\" Generator"
      ],
      "metadata": {
        "id": "wUCtMeiaSObG"
      }
    },
    {
      "cell_type": "markdown",
      "source": [
        "##1 - Ask your users a series of questions that identify if they're one of the characters in the world you have created."
      ],
      "metadata": {
        "id": "0X2zCUzeSbp-"
      }
    },
    {
      "cell_type": "code",
      "source": [
        "print(\"Marvel Movie Character Creator\")\n",
        "print(\"--\")\n",
        "print(\"Which character are you from 'Avengers?'\")\n",
        "print()\n",
        "print(\"Answer these questions, with YES or NO, and let's find out.\")\n",
        "print(\"--\")"
      ],
      "metadata": {
        "colab": {
          "base_uri": "https://localhost:8080/"
        },
        "id": "gedwmSHR7jxn",
        "outputId": "0c80f153-ec6c-4c67-9b8c-9e4baf1e1bb9"
      },
      "execution_count": 33,
      "outputs": [
        {
          "output_type": "stream",
          "name": "stdout",
          "text": [
            "Marvel Movie Character Creator\n",
            "--\n",
            "Which character are you from 'Avengers?'\n",
            "\n",
            "Answer these questions, with YES or NO, and let's find out.\n",
            "--\n"
          ]
        }
      ]
    },
    {
      "cell_type": "markdown",
      "source": [
        "##2 - Add multiple if statements to check the result of each question."
      ],
      "metadata": {
        "id": "Cv9-I_B7SuJ9"
      }
    },
    {
      "cell_type": "code",
      "source": [
        "print(\"Marvel Movie Character Creator\")\n",
        "print(\"--\")\n",
        "print(\"Which character are you from 'Avengers?'\")\n",
        "print()\n",
        "print(\"Answer these questions, with YES or NO, and let's find out.\")\n",
        "print(\"--\")\n",
        "spider = input(\"Do you like 'hanging around'?: \")\n",
        "if spider == \"yes\":\n",
        "  print(\"Aha! You're Spider-man! Hi!\")\n",
        "else:\n",
        "  print(\"Then you're not Spider-man\")\n",
        "\n",
        "korg = input(\"Do you have a 'gravelly' voice?: \")\n",
        "if korg == \"yes\":\n",
        "  print(\"Aha! You're Korg! Hi!\")\n",
        "else:\n",
        "  print(\"Aww, then you're not Korg\")\n",
        "\n",
        "captain = input(\"Do you often feel 'Marvelous'?: \")\n",
        "if captain == \"yes\":\n",
        "  print(\"Aha! You're Captain Marvel! Hi!\")\n",
        "else:\n",
        "  print(\"Aww, then you're not Captain Marvel\")\n",
        "\n",
        "likeGreen = input(\"Do you like the color green?: \")\n",
        "if likeGreen == \"yes\":\n",
        "  print(\"You must be the Hulk!\")\n",
        "else:\n",
        "  print(\"Aww, then you're not Hulk\")\n",
        "\n",
        "IronIsCool = input(\"Do you think building robots is cool?: \")\n",
        "if IronIsCool == \"yes\":\n",
        "  print(\"You must be Iron Man. Cool suit!\")\n",
        "else:\n",
        "  print(\"Aww, then you're not Iron Man\")\n",
        "\n",
        "TimeTravel = input(\"Do you like traveling through time?: \")\n",
        "if TimeTravel == \"yes\":\n",
        "  print(\"You must be Captain America!\")\n",
        "else:\n",
        "  print(\"Aww, then you're not Captain America!\")\n",
        "\n",
        "Strong = input(\"Are you super strong?: \")\n",
        "if Strong == \"yes\":\n",
        "  print(\"You have got to be Thor!\")\n",
        "else:\n",
        "  print(\"Aww, then you're not Thor\")"
      ],
      "metadata": {
        "colab": {
          "base_uri": "https://localhost:8080/"
        },
        "id": "XBk7D_M77CxF",
        "outputId": "9f723fe9-6a0b-4b61-9867-4ee78d2c8526"
      },
      "execution_count": 29,
      "outputs": [
        {
          "output_type": "stream",
          "name": "stdout",
          "text": [
            "Marvel Movie Character Creator\n",
            "--\n",
            "Which character are you from 'Avengers?'\n",
            "\n",
            "Answer these questions, with YES or NO, and let's find out.\n",
            "--\n",
            "Do you like 'hanging around'?: no\n",
            "Then you're not Spider-man\n",
            "Do you have a 'gravelly' voice?: no\n",
            "Aww, then you're not Korg\n",
            "Do you often feel 'Marvelous'?: no\n",
            "Aww, then you're not Captain Marvel\n",
            "Do you like the color green?: no\n",
            "Aww, then you're not Hulk\n",
            "Do you think building robots is cool?: no\n",
            "Aww, then you're not Iron Man\n",
            "Do you like traveling through time?: yes\n",
            "You must be Captain America!\n",
            "Are you super strong?: no\n",
            "Aww, then you're not Thor\n"
          ]
        }
      ]
    },
    {
      "cell_type": "markdown",
      "source": [
        "##3 - Make sure to have a final print if they haven't selected any of the characters so far."
      ],
      "metadata": {
        "id": "O2ORAn7b28a9"
      }
    },
    {
      "cell_type": "code",
      "source": [
        "print(\"Marvel Movie Character Creator\")\n",
        "print(\"--\")\n",
        "print(\"Which character are you from 'Avengers?'\")\n",
        "print()\n",
        "print(\"Answer these questions, with YES or NO, and let's find out.\")\n",
        "print(\"--\")\n",
        "spider = input(\"Do you like 'hanging around'?: \")\n",
        "if spider == \"yes\":\n",
        "  print(\"Aha! You're Spider-man! Hi!\")\n",
        "else:\n",
        "  print(\"Then you're not Spider-man\")\n",
        "\n",
        "korg = input(\"Do you have a 'gravelly' voice?: \")\n",
        "if korg == \"yes\":\n",
        "  print(\"Aha! You're Korg! Hi!\")\n",
        "else:\n",
        "  print(\"Aww, then you're not Korg\")\n",
        "\n",
        "captain = input(\"Do you often feel 'Marvelous'?: \")\n",
        "if captain == \"yes\":\n",
        "  print(\"Aha! You're Captain Marvel! Hi!\")\n",
        "else:\n",
        "  print(\"Aww, then you're not Captain Marvel\")\n",
        "\n",
        "likeGreen = input(\"Do you like the color green?: \")\n",
        "if likeGreen == \"yes\":\n",
        "  print(\"You must be the Hulk!\")\n",
        "else:\n",
        "  print(\"Aww, then you're not Hulk\")\n",
        "\n",
        "IronIsCool = input(\"Do you think building robots is cool?: \")\n",
        "if IronIsCool == \"yes\":\n",
        "  print(\"You must be Iron Man. Cool suit!\")\n",
        "else:\n",
        "  print(\"Aww, then you're not Iron Man\")\n",
        "\n",
        "TimeTravel = input(\"Do you like traveling through time?: \")\n",
        "if TimeTravel == \"yes\":\n",
        "  print(\"You must be Captain America!\")\n",
        "else:\n",
        "  print(\"Aww, then you're not Captain America!\")\n",
        "\n",
        "Strong = input(\"Are you super strong?: \")\n",
        "if Strong == \"yes\":\n",
        "  print(\"You have got to be Thor!\")\n",
        "else:\n",
        "  print(\"Aww, then you're not Thor\")\n",
        "\n",
        "print(\"I guess you are not like anyone from 'Avengers.'\")"
      ],
      "metadata": {
        "colab": {
          "base_uri": "https://localhost:8080/"
        },
        "id": "5mtGTmJWSqR9",
        "outputId": "089907ee-dea5-42c4-f4fb-ea8799c39c64"
      },
      "execution_count": 32,
      "outputs": [
        {
          "output_type": "stream",
          "name": "stdout",
          "text": [
            "Marvel Movie Character Creator\n",
            "--\n",
            "Which character are you from 'Avengers?'\n",
            "\n",
            "Answer these questions, with YES or NO, and let's find out.\n",
            "--\n",
            "Do you like 'hanging around'?: no\n",
            "Then you're not Spider-man\n",
            "Do you have a 'gravelly' voice?: no\n",
            "Aww, then you're not Korg\n",
            "Do you often feel 'Marvelous'?: no\n",
            "Aww, then you're not Captain Marvel\n",
            "Do you like the color green?: no\n",
            "Aww, then you're not Hulk\n",
            "Do you think building robots is cool?: no\n",
            "Aww, then you're not Iron Man\n",
            "Do you like traveling through time?: no\n",
            "Aww, then you're not Captain America!\n",
            "Are you super strong?: no\n",
            "Aww, then you're not Thor\n",
            "I guess you are not like anyone from 'Avengers.'\n"
          ]
        }
      ]
    },
    {
      "cell_type": "markdown",
      "source": [
        "##3no - Add one more line to your output You can follow my progress at [GitHub](https://github.com/rodrigorissettoterra/100_days_of_Python/blob/main/README.md)."
      ],
      "metadata": {
        "id": "FyA4dCozTZvJ"
      }
    },
    {
      "cell_type": "code",
      "source": [
        "print(\"You can follow my progress at:\"\"\"\n",
        "\"\"\"https://github.com/rodrigorissettoterra/100_days_of_Python/blob/main/README.md\"\"\")"
      ],
      "metadata": {
        "colab": {
          "base_uri": "https://localhost:8080/"
        },
        "id": "9cfq7jFSTTPg",
        "outputId": "f54d6903-6ba2-46e9-a10b-2b3f12857a68"
      },
      "execution_count": 6,
      "outputs": [
        {
          "output_type": "stream",
          "name": "stdout",
          "text": [
            "You can follow my progress at:https://github.com/rodrigorissettoterra/100_days_of_Python/blob/main/README.md\n"
          ]
        }
      ]
    }
  ]
}