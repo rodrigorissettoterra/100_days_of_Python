{
  "nbformat": 4,
  "nbformat_minor": 0,
  "metadata": {
    "colab": {
      "provenance": [],
      "authorship_tag": "ABX9TyOOTM2SkMYL2ObmVmD5C8Xc",
      "include_colab_link": true
    },
    "kernelspec": {
      "name": "python3",
      "display_name": "Python 3"
    },
    "language_info": {
      "name": "python"
    }
  },
  "cells": [
    {
      "cell_type": "markdown",
      "metadata": {
        "id": "view-in-github",
        "colab_type": "text"
      },
      "source": [
        "<a href=\"https://colab.research.google.com/github/rodrigorissettoterra/100_days_of_Python/blob/main/Day1_of_100days.ipynb\" target=\"_parent\"><img src=\"https://colab.research.google.com/assets/colab-badge.svg\" alt=\"Open In Colab\"/></a>"
      ]
    },
    {
      "cell_type": "markdown",
      "source": [
        "#Project 1: Print into the World"
      ],
      "metadata": {
        "id": "wUCtMeiaSObG"
      }
    },
    {
      "cell_type": "markdown",
      "source": [
        "##1 - Write your full name and today's date in separate lines of code."
      ],
      "metadata": {
        "id": "0X2zCUzeSbp-"
      }
    },
    {
      "cell_type": "code",
      "execution_count": 1,
      "metadata": {
        "colab": {
          "base_uri": "https://localhost:8080/"
        },
        "id": "sZR-iLNhSDUk",
        "outputId": "a7989da4-26b3-4901-b0d4-94f09a009a6b"
      },
      "outputs": [
        {
          "output_type": "stream",
          "name": "stdout",
          "text": [
            "Rodrigo R. Terra\n",
            "12 de Dezembro de 2023\n"
          ]
        }
      ],
      "source": [
        "print(\"Rodrigo R. Terra\")\n",
        "print(\"12 de Dezembro de 2023\")"
      ]
    },
    {
      "cell_type": "markdown",
      "source": [
        "##2 - Copy this text below. See if you can do it with just the one print statement!"
      ],
      "metadata": {
        "id": "Cv9-I_B7SuJ9"
      }
    },
    {
      "cell_type": "markdown",
      "source": [
        "I am signing up for Replit's 100 days of Python challenge!\n",
        "I will make sure to spend some time every day coding along, for a minimum of 10 minutes a day.\n",
        "I'll be using Replit, an amazing online IDE so I can do this from my phone wherever I happend to be. No excuses for not coding from the middle of a field!"
      ],
      "metadata": {
        "id": "74QQG2PRSw9M"
      }
    },
    {
      "cell_type": "code",
      "source": [
        "print(\"\"\"I am signing up for Replit's 100 days of Python challenge!\n",
        "I will make sure to spend some time every day coding along, for a minimum of 10 minutes a day.\n",
        "I'll be using Replit, an amazing online IDE so I can do this from my phone wherever I happend to be.\n",
        "No excuses for not coding from the middle of a field!\"\"\")"
      ],
      "metadata": {
        "colab": {
          "base_uri": "https://localhost:8080/"
        },
        "id": "5mtGTmJWSqR9",
        "outputId": "44df63fa-f6de-4492-f6bf-584348354d09"
      },
      "execution_count": 7,
      "outputs": [
        {
          "output_type": "stream",
          "name": "stdout",
          "text": [
            "I am signing up for Replit's 100 days of Python challenge!\n",
            "I will make sure to spend some time every day coding along, for a minimum of 10 minutes a day.\n",
            "I'll be using Replit, an amazing online IDE so I can do this from my phone wherever I happend to be.\n",
            "No excuses for not coding from the middle of a field!\n"
          ]
        }
      ]
    },
    {
      "cell_type": "markdown",
      "source": [
        "##3 - On the next line add I am feeling with an emoji of your choice to illustrate how you're feeling about the challenge."
      ],
      "metadata": {
        "id": "_0CW_Qx8TM1I"
      }
    },
    {
      "cell_type": "code",
      "source": [
        "print(\"I am feeling 🥳\")"
      ],
      "metadata": {
        "colab": {
          "base_uri": "https://localhost:8080/"
        },
        "id": "9zFzS6TxS6Et",
        "outputId": "51ce8459-b861-4078-9354-8496d624317a"
      },
      "execution_count": 8,
      "outputs": [
        {
          "output_type": "stream",
          "name": "stdout",
          "text": [
            "I am feeling 🥳\n"
          ]
        }
      ]
    },
    {
      "cell_type": "markdown",
      "source": [
        "##4 - Add one more line to your output You can follow my progress at [GitHub](https://github.com/rodrigorissettoterra/100_days_of_Python/blob/main/README.md)."
      ],
      "metadata": {
        "id": "FyA4dCozTZvJ"
      }
    },
    {
      "cell_type": "code",
      "source": [
        "print(\"You can follow my progress at:\"\"\"\n",
        "\"\"\"https://github.com/rodrigorissettoterra/100_days_of_Python/blob/main/README.md\"\"\")"
      ],
      "metadata": {
        "colab": {
          "base_uri": "https://localhost:8080/"
        },
        "id": "9cfq7jFSTTPg",
        "outputId": "f54d6903-6ba2-46e9-a10b-2b3f12857a68"
      },
      "execution_count": 6,
      "outputs": [
        {
          "output_type": "stream",
          "name": "stdout",
          "text": [
            "You can follow my progress at:https://github.com/rodrigorissettoterra/100_days_of_Python/blob/main/README.md\n"
          ]
        }
      ]
    }
  ]
}