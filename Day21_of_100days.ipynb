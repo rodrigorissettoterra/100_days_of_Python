{
  "cells": [
    {
      "cell_type": "markdown",
      "metadata": {
        "id": "view-in-github",
        "colab_type": "text"
      },
      "source": [
        "<a href=\"https://colab.research.google.com/github/rodrigorissettoterra/100_days_of_Python/blob/main/Day21_of_100days.ipynb\" target=\"_parent\"><img src=\"https://colab.research.google.com/assets/colab-badge.svg\" alt=\"Open In Colab\"/></a>"
      ]
    },
    {
      "cell_type": "markdown",
      "metadata": {
        "id": "wUCtMeiaSObG"
      },
      "source": [
        "#Project 21: Multiplication table game"
      ]
    },
    {
      "cell_type": "markdown",
      "source": [
        "Test your family and friends on their multiplication knowledge (or just be really mean to people you know and ask them to work out their multiplication tables for 5,474,000,000....)"
      ],
      "metadata": {
        "id": "sAEa42WYLyxW"
      }
    },
    {
      "cell_type": "markdown",
      "source": [
        "##1 - Prompt the user by asking for a multiplication table for the number of their choice."
      ],
      "metadata": {
        "id": "R6FtL8c3VD4O"
      }
    },
    {
      "cell_type": "markdown",
      "source": [
        "##2 - Generate the multiplication table for 1 to 10 times that number and ask each math fact as a question (psst...that's a hint)."
      ],
      "metadata": {
        "id": "TcPd7MbOWXdn"
      }
    },
    {
      "cell_type": "markdown",
      "source": [
        "##3 - If the user gets the math correct, award them a point. If they get it wrong, do not give them any points."
      ],
      "metadata": {
        "id": "xj7EqiIeWXZX"
      }
    },
    {
      "cell_type": "markdown",
      "source": [
        "##4 - At the end of the 10 rounds, show the user their score out of 10 for how many math facts they got correct."
      ],
      "metadata": {
        "id": "tJGpO0gbWXVQ"
      }
    },
    {
      "cell_type": "markdown",
      "source": [
        "##5 - Why not give users an emoji if they get all 10 math facts correct?"
      ],
      "metadata": {
        "id": "fa7dfYCdWXRZ"
      }
    },
    {
      "cell_type": "code",
      "execution_count": 1,
      "metadata": {
        "colab": {
          "base_uri": "https://localhost:8080/"
        },
        "id": "ygMy_RpAeuEf",
        "outputId": "74b71b56-8c6f-4d59-adeb-321ac2403257"
      },
      "outputs": [
        {
          "output_type": "stream",
          "name": "stdout",
          "text": [
            "Math Game! How many do you get out of 10?\n",
            "Name your multiples: 4\n",
            "1 X 4 = 4\n",
            "Great work!\n",
            "2 X 4 = 8\n",
            "Great work!\n",
            "3 X 4 = 12\n",
            "Great work!\n",
            "4 X 4 = 16\n",
            "Great work!\n",
            "5 X 4 = 100\n",
            "Nope. The answer was 20.\n",
            "6 X 4 = 24\n",
            "Great work!\n",
            "7 X 4 = 28\n",
            "Great work!\n",
            "8 X 4 = 32\n",
            "Great work!\n",
            "9 X 4 = 100\n",
            "Nope. The answer was 36.\n",
            "10 X 4 = 40\n",
            "Great work!\n",
            "\n",
            "You scored 8 out of 10.\n"
          ]
        }
      ],
      "source": [
        "def multiplication_game():\n",
        "  print(\"Math Game! How many do you get out of 10?\")\n",
        "  number = int(input(\"Name your multiples: \"))\n",
        "  score = 0\n",
        "\n",
        "  for i in range(1, 11):\n",
        "      answer = int(input(f\"{i} X {number} = \"))\n",
        "      if answer == i * number:\n",
        "          print(\"Great work!\")\n",
        "          score += 1\n",
        "      else:\n",
        "          print(f\"Nope. The answer was {i * number}.\")\n",
        "\n",
        "  print(f\"\\nYou scored {score} out of 10.\")\n",
        "  if score == 10:\n",
        "      print(\"🎉 Awesome! You got all the math facts correct! 🎉\")\n",
        "\n",
        "\n",
        "if __name__ == \"__main__\":\n",
        "  multiplication_game()"
      ]
    },
    {
      "cell_type": "markdown",
      "metadata": {
        "id": "FyA4dCozTZvJ"
      },
      "source": [
        "##Add one more line to your output You can follow my progress at [GitHub](https://github.com/rodrigorissettoterra/100_days_of_Python/blob/main/README.md)."
      ]
    },
    {
      "cell_type": "code",
      "execution_count": null,
      "metadata": {
        "colab": {
          "base_uri": "https://localhost:8080/"
        },
        "id": "9cfq7jFSTTPg",
        "outputId": "f54d6903-6ba2-46e9-a10b-2b3f12857a68"
      },
      "outputs": [
        {
          "name": "stdout",
          "output_type": "stream",
          "text": [
            "You can follow my progress at:https://github.com/rodrigorissettoterra/100_days_of_Python/blob/main/README.md\n"
          ]
        }
      ],
      "source": [
        "print(\"You can follow my progress at:\"\"\"\n",
        "\"\"\"https://github.com/rodrigorissettoterra/100_days_of_Python/blob/main/README.md\"\"\")"
      ]
    }
  ],
  "metadata": {
    "colab": {
      "provenance": [],
      "authorship_tag": "ABX9TyO8wo4iufFx6KEhnfA8p1sb",
      "include_colab_link": true
    },
    "kernelspec": {
      "display_name": "Python 3",
      "name": "python3"
    },
    "language_info": {
      "name": "python"
    }
  },
  "nbformat": 4,
  "nbformat_minor": 0
}