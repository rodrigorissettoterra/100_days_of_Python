{
  "cells": [
    {
      "cell_type": "markdown",
      "metadata": {
        "id": "view-in-github",
        "colab_type": "text"
      },
      "source": [
        "<a href=\"https://colab.research.google.com/github/rodrigorissettoterra/100_days_of_Python/blob/main/Day22_of_100days.ipynb\" target=\"_parent\"><img src=\"https://colab.research.google.com/assets/colab-badge.svg\" alt=\"Open In Colab\"/></a>"
      ]
    },
    {
      "cell_type": "markdown",
      "metadata": {
        "id": "wUCtMeiaSObG"
      },
      "source": [
        "#Project 22: Totally Random One-Million-to-One"
      ]
    },
    {
      "cell_type": "markdown",
      "source": [
        "Make the number generator completely random between 1 and 1,000,000. Now, the game will always have the user guess a random number each time (now the user can't cheat...)"
      ],
      "metadata": {
        "id": "sAEa42WYLyxW"
      }
    },
    {
      "cell_type": "code",
      "execution_count": 1,
      "metadata": {
        "colab": {
          "base_uri": "https://localhost:8080/"
        },
        "id": "ygMy_RpAeuEf",
        "outputId": "60d7f12d-04f2-4b68-9668-5c9457661e7c"
      },
      "outputs": [
        {
          "output_type": "stream",
          "name": "stdout",
          "text": [
            "Guess the number between 0 and 1000000 (type a negative number to exit): \n",
            "500000\n",
            "Too high!\n",
            "Guess the number between 0 and 500000: \n",
            "250000\n",
            "Too high!\n",
            "Guess the number between 0 and 250000: \n",
            "125000\n",
            "Too low!\n",
            "Guess the number between 125000 and 250000: \n",
            "187500\n",
            "Too low!\n",
            "Guess the number between 187500 and 250000: \n",
            "218750\n",
            "Too low!\n",
            "Guess the number between 218750 and 250000: \n",
            "234375\n",
            "Too low!\n",
            "Guess the number between 234375 and 250000: \n",
            "242187\n",
            "Too high!\n",
            "Guess the number between 234375 and 242187: \n",
            "238281\n",
            "Too low!\n",
            "Guess the number between 238281 and 242187: \n",
            "240234\n",
            "Too high!\n",
            "Guess the number between 238281 and 240234: \n",
            "239257\n",
            "Too high!\n",
            "Guess the number between 238281 and 239257: \n",
            "238769\n",
            "Too high!\n",
            "Guess the number between 238281 and 238769: \n",
            "238500\n",
            "Too low!\n",
            "Guess the number between 238500 and 238769: \n",
            "238600\n",
            "Too low!\n",
            "Guess the number between 238600 and 238769: \n",
            "238700\n",
            "Too low!\n",
            "Guess the number between 238700 and 238769: \n",
            "238750\n",
            "Too high!\n",
            "Guess the number between 238700 and 238750: \n",
            "238725\n",
            "Too low!\n",
            "Guess the number between 238725 and 238750: \n",
            "238740\n",
            "Too high!\n",
            "Guess the number between 238725 and 238740: \n",
            "238730\n",
            "Too high!\n",
            "Guess the number between 238725 and 238730: \n",
            "238756\n",
            "Too high!\n",
            "Guess the number between 238725 and 238756: \n",
            "238726\n",
            "Too low!\n",
            "Guess the number between 238726 and 238756: \n",
            "238727\n",
            "Congratulations! You're the winner! 🎉\n",
            "It took you 21 attempts to guess the number.\n"
          ]
        }
      ],
      "source": [
        "import random\n",
        "\n",
        "secret_number = random.randint(0, 1000000)\n",
        "attempts = 0\n",
        "lower_bound = 0\n",
        "upper_bound = 1000000\n",
        "\n",
        "while True:\n",
        "    if attempts == 0:\n",
        "        print(f\"Guess the number between {lower_bound} and {upper_bound} (type a negative number to exit): \")\n",
        "    else:\n",
        "        print(f\"Guess the number between {lower_bound} and {upper_bound}: \")\n",
        "\n",
        "    guess = int(input())\n",
        "\n",
        "    if guess < 0:\n",
        "        print(\"Exiting the game...\")\n",
        "        break\n",
        "    elif guess > 1000000 or guess < lower_bound:\n",
        "        print(\"Your guess is out of range. Please guess between the specified range.\")\n",
        "        continue\n",
        "\n",
        "    attempts += 1\n",
        "\n",
        "    if guess < secret_number:\n",
        "        print(f\"Too low!\")\n",
        "        lower_bound = guess\n",
        "    elif guess > secret_number:\n",
        "        print(f\"Too high!\")\n",
        "        upper_bound = guess\n",
        "    else:\n",
        "        print(\"Congratulations! You're the winner! 🎉\")\n",
        "        print(f\"It took you {attempts} attempts to guess the number.\")\n",
        "        break"
      ]
    },
    {
      "cell_type": "markdown",
      "metadata": {
        "id": "FyA4dCozTZvJ"
      },
      "source": [
        "##Add one more line to your output You can follow my progress at [GitHub](https://github.com/rodrigorissettoterra/100_days_of_Python/blob/main/README.md)."
      ]
    },
    {
      "cell_type": "code",
      "execution_count": null,
      "metadata": {
        "colab": {
          "base_uri": "https://localhost:8080/"
        },
        "id": "9cfq7jFSTTPg",
        "outputId": "f54d6903-6ba2-46e9-a10b-2b3f12857a68"
      },
      "outputs": [
        {
          "name": "stdout",
          "output_type": "stream",
          "text": [
            "You can follow my progress at:https://github.com/rodrigorissettoterra/100_days_of_Python/blob/main/README.md\n"
          ]
        }
      ],
      "source": [
        "print(\"You can follow my progress at:\"\"\"\n",
        "\"\"\"https://github.com/rodrigorissettoterra/100_days_of_Python/blob/main/README.md\"\"\")"
      ]
    }
  ],
  "metadata": {
    "colab": {
      "provenance": [],
      "authorship_tag": "ABX9TyMrwVfdih+1TjYodOEJUApo",
      "include_colab_link": true
    },
    "kernelspec": {
      "display_name": "Python 3",
      "name": "python3"
    },
    "language_info": {
      "name": "python"
    }
  },
  "nbformat": 4,
  "nbformat_minor": 0
}