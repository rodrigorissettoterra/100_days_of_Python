{
  "nbformat": 4,
  "nbformat_minor": 0,
  "metadata": {
    "colab": {
      "provenance": [],
      "authorship_tag": "ABX9TyN2vFjk3Va99rJh/2i7mODl",
      "include_colab_link": true
    },
    "kernelspec": {
      "name": "python3",
      "display_name": "Python 3"
    },
    "language_info": {
      "name": "python"
    }
  },
  "cells": [
    {
      "cell_type": "markdown",
      "metadata": {
        "id": "view-in-github",
        "colab_type": "text"
      },
      "source": [
        "<a href=\"https://colab.research.google.com/github/rodrigorissettoterra/100_days_of_Python/blob/main/Day7_of_100days.ipynb\" target=\"_parent\"><img src=\"https://colab.research.google.com/assets/colab-badge.svg\" alt=\"Open In Colab\"/></a>"
      ]
    },
    {
      "cell_type": "markdown",
      "source": [
        "#Project 7: Fake Fan Question Generator"
      ],
      "metadata": {
        "id": "wUCtMeiaSObG"
      }
    },
    {
      "cell_type": "markdown",
      "source": [
        "##1 - Back to the future"
      ],
      "metadata": {
        "id": "0X2zCUzeSbp-"
      }
    },
    {
      "cell_type": "markdown",
      "source": [
        "Wanna find out if someone else is a true superfan of the same show, movie or interest as you? Create a program that asks what someone is interested in and includes nested if statements to ask annoying follow-up questions to see if someone is the real deal!\n",
        "\n",
        "Make sure you include multiple if/else statements and nested if statements too!"
      ],
      "metadata": {
        "id": "MLWbUmVBmEv-"
      }
    },
    {
      "cell_type": "code",
      "source": [
        "print(\"-------------------------------------------------------\")\n",
        "print(\"Are you superfan of 'Back to the future' or a fake fan?\")\n",
        "print(\"Answer these questions to find out.\")\n",
        "print(\"--\")\n",
        "\n",
        "Brown = input(\"What is the last name of the scientist in the film?\")\n",
        "if Brown == \"Brown\":\n",
        "  print(\"YEAH, CORRECT!\")\n",
        "else:\n",
        "  print(\"WRONG!\")\n",
        "  Marty = input(\"What is the first name of the character that actor Michael J. Fox plays? \")\n",
        "  if Marty == \"Marty\":\n",
        "    print(\"YEAH, YOU ARE GOOD!\")\n",
        "    print(\"We can say that you are a true fan of the movie 'Back to the future'!\")\n",
        "  else:\n",
        "    print(\"You need to watch all 3 Back to the Future films!\")"
      ],
      "metadata": {
        "colab": {
          "base_uri": "https://localhost:8080/"
        },
        "id": "5mtGTmJWSqR9",
        "outputId": "51e99cac-4a72-4686-81a7-2dfd09e620ad"
      },
      "execution_count": 36,
      "outputs": [
        {
          "output_type": "stream",
          "name": "stdout",
          "text": [
            "-------------------------------------------------------\n",
            "Are you superfan of 'Back to the future' or a fake fan?\n",
            "Answer these questions to find out.\n",
            "--\n",
            "What is the last name of the scientist in the film?Emmett\n",
            "WRONG!\n",
            "What is the first name of the character that actor Michael J. Fox plays? Marty\n",
            "YEAH, YOU ARE GOOD!\n",
            "We can say that you are a true fan of the movie 'Back to the future'!\n"
          ]
        }
      ]
    },
    {
      "cell_type": "markdown",
      "source": [
        "##2 - Add one more line to your output You can follow my progress at [GitHub](https://github.com/rodrigorissettoterra/100_days_of_Python/blob/main/README.md)."
      ],
      "metadata": {
        "id": "FyA4dCozTZvJ"
      }
    },
    {
      "cell_type": "code",
      "source": [
        "print(\"You can follow my progress at:\"\"\"\n",
        "\"\"\"https://github.com/rodrigorissettoterra/100_days_of_Python/blob/main/README.md\"\"\")"
      ],
      "metadata": {
        "colab": {
          "base_uri": "https://localhost:8080/"
        },
        "id": "9cfq7jFSTTPg",
        "outputId": "f54d6903-6ba2-46e9-a10b-2b3f12857a68"
      },
      "execution_count": 6,
      "outputs": [
        {
          "output_type": "stream",
          "name": "stdout",
          "text": [
            "You can follow my progress at:https://github.com/rodrigorissettoterra/100_days_of_Python/blob/main/README.md\n"
          ]
        }
      ]
    }
  ]
}
