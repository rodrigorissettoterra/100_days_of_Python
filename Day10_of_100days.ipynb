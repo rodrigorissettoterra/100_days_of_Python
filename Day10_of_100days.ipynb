{
  "nbformat": 4,
  "nbformat_minor": 0,
  "metadata": {
    "colab": {
      "provenance": [],
      "authorship_tag": "ABX9TyNBuos7QqdHkLrHcgm0LLlM",
      "include_colab_link": true
    },
    "kernelspec": {
      "name": "python3",
      "display_name": "Python 3"
    },
    "language_info": {
      "name": "python"
    }
  },
  "cells": [
    {
      "cell_type": "markdown",
      "metadata": {
        "id": "view-in-github",
        "colab_type": "text"
      },
      "source": [
        "<a href=\"https://colab.research.google.com/github/rodrigorissettoterra/100_days_of_Python/blob/main/Day10_of_100days.ipynb\" target=\"_parent\"><img src=\"https://colab.research.google.com/assets/colab-badge.svg\" alt=\"Open In Colab\"/></a>"
      ]
    },
    {
      "cell_type": "markdown",
      "source": [
        "#Project 10: Extend your bill calculator"
      ],
      "metadata": {
        "id": "wUCtMeiaSObG"
      }
    },
    {
      "cell_type": "markdown",
      "source": [
        "Add a tip function that adds the total tip to the bill before splitting it equally between the people."
      ],
      "metadata": {
        "id": "kdySFwsAtw5q"
      }
    },
    {
      "cell_type": "markdown",
      "source": [
        "##1 - Ask the user for the total bill amount."
      ],
      "metadata": {
        "id": "KSVQ3pYev11E"
      }
    },
    {
      "cell_type": "markdown",
      "source": [
        "##2 - Ask what % of tip they will leave to be added to the bill total."
      ],
      "metadata": {
        "id": "JYN9hWmscBc3"
      }
    },
    {
      "cell_type": "markdown",
      "source": [
        "##3 - Figure out how to get the total bill with tip then add that to original amount."
      ],
      "metadata": {
        "id": "QVVhVMXucEv0"
      }
    },
    {
      "cell_type": "markdown",
      "source": [
        "##4 - Ask the user how many people are splitting the bill and divide by the total."
      ],
      "metadata": {
        "id": "esorcuTxn47d"
      }
    },
    {
      "cell_type": "code",
      "source": [
        "from tqdm import tqdm\n",
        "from time import sleep\n",
        "\n",
        "Bill = float(input(\"What is the total bill? $\"))\n",
        "Tip = input(\"What percentage tip would you like to give? \")\n",
        "TotalBill = Bill + (Bill * float(Tip)/100)\n",
        "\n",
        "for i in tqdm(range(int(TotalBill))):\n",
        "    sleep(0.01)\n",
        "print(\"Your Total Bill is $\",round(TotalBill,2))\n",
        "\n",
        "gests = int(input(\"How many people to split the bill? \"))\n",
        "\n",
        "for i in tqdm(range(int(TotalBill))):\n",
        "    sleep(0.01)\n",
        "\n",
        "print(\"\\nThe Total Bill was $\",round(TotalBill,2), \", that is, $\", round(TotalBill/gests,2), \"for each guest.\")"
      ],
      "metadata": {
        "colab": {
          "base_uri": "https://localhost:8080/"
        },
        "id": "ygMy_RpAeuEf",
        "outputId": "cab6afcb-9e15-4c9e-aa28-084b726d8cd5"
      },
      "execution_count": 5,
      "outputs": [
        {
          "name": "stdout",
          "output_type": "stream",
          "text": [
            "What is the total bill? $150.15\n",
            "What percentage tip would you like to give? 12.5\n"
          ]
        },
        {
          "output_type": "stream",
          "name": "stderr",
          "text": [
            "100%|██████████| 168/168 [00:01<00:00, 96.65it/s]\n"
          ]
        },
        {
          "name": "stdout",
          "output_type": "stream",
          "text": [
            "Your Total Bill is $ 168.92\n",
            "How many people to split the bill? 6\n"
          ]
        },
        {
          "output_type": "stream",
          "name": "stderr",
          "text": [
            "100%|██████████| 168/168 [00:01<00:00, 96.69it/s]"
          ]
        },
        {
          "output_type": "stream",
          "name": "stdout",
          "text": [
            "\n",
            "The Total Bill was $ 168.92 , that is, $ 28.15 for each guest.\n"
          ]
        },
        {
          "output_type": "stream",
          "name": "stderr",
          "text": [
            "\n"
          ]
        }
      ]
    },
    {
      "cell_type": "markdown",
      "source": [
        "##4 - Add one more line to your output You can follow my progress at [GitHub](https://github.com/rodrigorissettoterra/100_days_of_Python/blob/main/README.md)."
      ],
      "metadata": {
        "id": "FyA4dCozTZvJ"
      }
    },
    {
      "cell_type": "code",
      "source": [
        "print(\"You can follow my progress at:\"\"\"\n",
        "\"\"\"https://github.com/rodrigorissettoterra/100_days_of_Python/blob/main/README.md\"\"\")"
      ],
      "metadata": {
        "colab": {
          "base_uri": "https://localhost:8080/"
        },
        "id": "9cfq7jFSTTPg",
        "outputId": "f54d6903-6ba2-46e9-a10b-2b3f12857a68"
      },
      "execution_count": null,
      "outputs": [
        {
          "output_type": "stream",
          "name": "stdout",
          "text": [
            "You can follow my progress at:https://github.com/rodrigorissettoterra/100_days_of_Python/blob/main/README.md\n"
          ]
        }
      ]
    }
  ]
}