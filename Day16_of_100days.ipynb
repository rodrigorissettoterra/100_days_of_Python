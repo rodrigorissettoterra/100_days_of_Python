{
  "nbformat": 4,
  "nbformat_minor": 0,
  "metadata": {
    "colab": {
      "provenance": [],
      "authorship_tag": "ABX9TyPkGniJSSIxiTNuUDzUiYK9",
      "include_colab_link": true
    },
    "kernelspec": {
      "name": "python3",
      "display_name": "Python 3"
    },
    "language_info": {
      "name": "python"
    }
  },
  "cells": [
    {
      "cell_type": "markdown",
      "metadata": {
        "id": "view-in-github",
        "colab_type": "text"
      },
      "source": [
        "<a href=\"https://colab.research.google.com/github/rodrigorissettoterra/100_days_of_Python/blob/main/Day16_of_100days.ipynb\" target=\"_parent\"><img src=\"https://colab.research.google.com/assets/colab-badge.svg\" alt=\"Open In Colab\"/></a>"
      ]
    },
    {
      "cell_type": "markdown",
      "source": [
        "#Project 16: Name the Lyrics"
      ],
      "metadata": {
        "id": "wUCtMeiaSObG"
      }
    },
    {
      "cell_type": "markdown",
      "source": [
        "Create a \"Name the Lyrics\" game. Write your favorite song lyrics with a word or two missing. The user has to figure out the correct song lyric in as few attempts as possible. Find the true lyric master among you!"
      ],
      "metadata": {
        "id": "KSVQ3pYev11E"
      }
    },
    {
      "cell_type": "markdown",
      "source": [
        "**Example**\n",
        "\n",
        "Fill in the blank lyrics!\n",
        "(Type in the blank lyrics and see if you are as cool as me.)\n",
        "\n",
        "Never going to ______ you up.\n",
        "put\n",
        "Nope, try again.\n",
        "\n",
        "Never going to ______ you up.\n",
        "let\n",
        "Nope, try again.\n",
        "\n",
        "Never going to ______ you up.\n",
        "give\n",
        "\n",
        "Well done! It only took you 3 attempts."
      ],
      "metadata": {
        "id": "TAJQKetm6y2X"
      }
    },
    {
      "cell_type": "code",
      "source": [
        "key = True\n",
        "counter = 1\n",
        "while key:\n",
        "  print()\n",
        "  print(\"Fill in the blank lyrics!\")\n",
        "  print(\"(Type in the blank lyrics and see if you are as cool as me.)\")\n",
        "  print()\n",
        "  print(\"Never going to ____ you up\")\n",
        "  word = input(\"Now it's up to you, enter the missing word: \")\n",
        "\n",
        "  if word.upper() == \"GIVE\":\n",
        "    print(\"Well done! It only took you\", counter, \"attempts.\")\n",
        "    key == False\n",
        "    break\n",
        "  else:\n",
        "    print(\"Nope, try again.\")\n",
        "  counter = counter + 1"
      ],
      "metadata": {
        "id": "ygMy_RpAeuEf",
        "colab": {
          "base_uri": "https://localhost:8080/"
        },
        "outputId": "b9b53e45-22fb-4d2a-caba-a379c27ff8f0"
      },
      "execution_count": 2,
      "outputs": [
        {
          "output_type": "stream",
          "name": "stdout",
          "text": [
            "\n",
            "Fill in the blank lyrics!\n",
            "(Type in the blank lyrics and see if you are as cool as me.)\n",
            "\n",
            "Never going to ____ you up\n",
            "Now it's up to you, enter the missing word: put\n",
            "Nope, try again.\n",
            "\n",
            "Fill in the blank lyrics!\n",
            "(Type in the blank lyrics and see if you are as cool as me.)\n",
            "\n",
            "Never going to ____ you up\n",
            "Now it's up to you, enter the missing word: let\n",
            "Nope, try again.\n",
            "\n",
            "Fill in the blank lyrics!\n",
            "(Type in the blank lyrics and see if you are as cool as me.)\n",
            "\n",
            "Never going to ____ you up\n",
            "Now it's up to you, enter the missing word: give\n",
            "Well done! It only took you 3 attempts.\n"
          ]
        }
      ]
    },
    {
      "cell_type": "markdown",
      "source": [
        "##Add one more line to your output You can follow my progress at [GitHub](https://github.com/rodrigorissettoterra/100_days_of_Python/blob/main/README.md)."
      ],
      "metadata": {
        "id": "FyA4dCozTZvJ"
      }
    },
    {
      "cell_type": "code",
      "source": [
        "print(\"You can follow my progress at:\"\"\"\n",
        "\"\"\"https://github.com/rodrigorissettoterra/100_days_of_Python/blob/main/README.md\"\"\")"
      ],
      "metadata": {
        "colab": {
          "base_uri": "https://localhost:8080/"
        },
        "id": "9cfq7jFSTTPg",
        "outputId": "f54d6903-6ba2-46e9-a10b-2b3f12857a68"
      },
      "execution_count": null,
      "outputs": [
        {
          "output_type": "stream",
          "name": "stdout",
          "text": [
            "You can follow my progress at:https://github.com/rodrigorissettoterra/100_days_of_Python/blob/main/README.md\n"
          ]
        }
      ]
    }
  ]
}