{
  "cells": [
    {
      "cell_type": "markdown",
      "metadata": {
        "id": "view-in-github",
        "colab_type": "text"
      },
      "source": [
        "<a href=\"https://colab.research.google.com/github/rodrigorissettoterra/100_days_of_Python/blob/main/Day24_of_100days.ipynb\" target=\"_parent\"><img src=\"https://colab.research.google.com/assets/colab-badge.svg\" alt=\"Open In Colab\"/></a>"
      ]
    },
    {
      "cell_type": "markdown",
      "metadata": {
        "id": "wUCtMeiaSObG"
      },
      "source": [
        "#Project 24: Infinity Dice 🎲"
      ]
    },
    {
      "cell_type": "markdown",
      "source": [
        "Let's build an infinity dice!"
      ],
      "metadata": {
        "id": "3LZEzIBgVBiL"
      }
    },
    {
      "cell_type": "markdown",
      "source": [
        "Create subroutines that will roll a dice with any number of sides (essentially as big of a number as you like). Write one subroutine with one parameter that allows us to call a function (such as rollDice)."
      ],
      "metadata": {
        "id": "BLTpjQVmVDfs"
      }
    },
    {
      "cell_type": "code",
      "execution_count": 2,
      "metadata": {
        "colab": {
          "base_uri": "https://localhost:8080/"
        },
        "id": "ygMy_RpAeuEf",
        "outputId": "a38feda2-9dc0-49d0-af10-406ec028b5ef"
      },
      "outputs": [
        {
          "name": "stdout",
          "output_type": "stream",
          "text": [
            "Infinity Dice 🎲\n",
            "How many sides? -> 20\n",
            "You rolled: 2\n",
            "Roll again? (Y/N) -> y\n",
            "How many sides? -> 16\n",
            "You rolled: 7\n",
            "Roll again? (Y/N) -> y\n",
            "How many sides? -> 100\n",
            "You rolled: 53\n",
            "Roll again? (Y/N) -> n\n"
          ]
        }
      ],
      "source": [
        "import random\n",
        "print(\"Infinity Dice 🎲\")\n",
        "\n",
        "def rollDice(sides):\n",
        "  print(\"You rolled:\", random.randint(1,sides))\n",
        "\n",
        "while True:\n",
        "  sides =int(input(\"How many sides? -> \"))\n",
        "  rollDice(sides)\n",
        "  again = (input(\"Roll again? (Y/N) -> \")).upper()\n",
        "  if again == \"Y\":\n",
        "    continue\n",
        "  else:\n",
        "    break"
      ]
    },
    {
      "cell_type": "markdown",
      "metadata": {
        "id": "FyA4dCozTZvJ"
      },
      "source": [
        "##Add one more line to your output You can follow my progress at [GitHub](https://github.com/rodrigorissettoterra/100_days_of_Python/blob/main/README.md)."
      ]
    },
    {
      "cell_type": "code",
      "execution_count": null,
      "metadata": {
        "colab": {
          "base_uri": "https://localhost:8080/"
        },
        "id": "9cfq7jFSTTPg",
        "outputId": "f54d6903-6ba2-46e9-a10b-2b3f12857a68"
      },
      "outputs": [
        {
          "name": "stdout",
          "output_type": "stream",
          "text": [
            "You can follow my progress at:https://github.com/rodrigorissettoterra/100_days_of_Python/blob/main/README.md\n"
          ]
        }
      ],
      "source": [
        "print(\"You can follow my progress at:\"\"\"\n",
        "\"\"\"https://github.com/rodrigorissettoterra/100_days_of_Python/blob/main/README.md\"\"\")"
      ]
    }
  ],
  "metadata": {
    "colab": {
      "provenance": [],
      "authorship_tag": "ABX9TyMvxHrKoKDMCpt2xaU3BYwc",
      "include_colab_link": true
    },
    "kernelspec": {
      "display_name": "Python 3",
      "name": "python3"
    },
    "language_info": {
      "name": "python"
    }
  },
  "nbformat": 4,
  "nbformat_minor": 0
}