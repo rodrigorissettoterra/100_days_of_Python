{
  "cells": [
    {
      "cell_type": "markdown",
      "metadata": {
        "id": "view-in-github",
        "colab_type": "text"
      },
      "source": [
        "<a href=\"https://colab.research.google.com/github/rodrigorissettoterra/100_days_of_Python/blob/main/Day25_of_100days.ipynb\" target=\"_parent\"><img src=\"https://colab.research.google.com/assets/colab-badge.svg\" alt=\"Open In Colab\"/></a>"
      ]
    },
    {
      "cell_type": "markdown",
      "metadata": {
        "id": "wUCtMeiaSObG"
      },
      "source": [
        "#Project 25: ⚔️ Character Stats Generator ⚔️"
      ]
    },
    {
      "cell_type": "markdown",
      "source": [
        "Let's extend Day 24's project and create a health stats generator for a character in a video game."
      ],
      "metadata": {
        "id": "3LZEzIBgVBiL"
      }
    },
    {
      "cell_type": "markdown",
      "source": [
        "##1 - Create a subroutine that rolls a dice of any size and returns that number."
      ],
      "metadata": {
        "id": "BLTpjQVmVDfs"
      }
    },
    {
      "cell_type": "markdown",
      "source": [
        "##2 - Then, create a second subroutine that rolls one six-sided dice and one eight-sided dice."
      ],
      "metadata": {
        "id": "ejfb6VpfSTgP"
      }
    },
    {
      "cell_type": "markdown",
      "source": [
        "##3 - Multiply the number from the six-sided dice and eight-sided dice together and return that subroutine as a character's health stats for a video game."
      ],
      "metadata": {
        "id": "cdNDSuZGSTTS"
      }
    },
    {
      "cell_type": "markdown",
      "source": [
        "##4 - Print out the character's health stats."
      ],
      "metadata": {
        "id": "F2Yb9R8rSTQO"
      }
    },
    {
      "cell_type": "markdown",
      "source": [
        "##5 - Add a loop to give the user the option to generate health stats for another character."
      ],
      "metadata": {
        "id": "k6VG5uLtSTNt"
      }
    },
    {
      "cell_type": "markdown",
      "source": [
        "(We genuinely see this in video games!)"
      ],
      "metadata": {
        "id": "kdFBvpI0SoDP"
      }
    },
    {
      "cell_type": "markdown",
      "source": [
        "## 6 - 🥳 Extra points if you ask for the character's name and double extra points if you use different colors!"
      ],
      "metadata": {
        "id": "vu6-b3eISj6Z"
      }
    },
    {
      "cell_type": "code",
      "execution_count": 1,
      "metadata": {
        "colab": {
          "base_uri": "https://localhost:8080/"
        },
        "id": "ygMy_RpAeuEf",
        "outputId": "c33fc521-f242-48bb-acdf-67754268bfe6"
      },
      "outputs": [
        {
          "output_type": "stream",
          "name": "stdout",
          "text": [
            "⚔️ Character Stats Generator ⚔️\n",
            "\n",
            "Name your warrior: Terra\n",
            "\u001b[91mTerra\u001b[0m's health is: \u001b[1;37m24hp\u001b[0m\n",
            "\n",
            "Do you want to generate health stats for another character? (yes/no): yes\n",
            "\n",
            "Name your warrior: Rodrigo\n",
            "\u001b[91mRodrigo\u001b[0m's health is: \u001b[1;37m2hp\u001b[0m\n",
            "\n",
            "Do you want to generate health stats for another character? (yes/no): yes\n",
            "\n",
            "Name your warrior: Great Warrior\n",
            "\u001b[91mGreat Warrior\u001b[0m's health is: \u001b[1;37m12hp\u001b[0m\n",
            "\n",
            "Do you want to generate health stats for another character? (yes/no): No\n",
            "\n",
            "Thanks for using the Character Stats Generator! ⚔️\n"
          ]
        }
      ],
      "source": [
        "import random\n",
        "\n",
        "def roll_dice(sides):\n",
        "    return random.randint(1, sides)\n",
        "\n",
        "def generate_health_stats():\n",
        "    six_sided_dice = roll_dice(6)\n",
        "    eight_sided_dice = roll_dice(8)\n",
        "    health_stats = six_sided_dice * eight_sided_dice\n",
        "    return health_stats\n",
        "\n",
        "def main():\n",
        "    print(\"⚔️ Character Stats Generator ⚔️\")\n",
        "\n",
        "    while True:\n",
        "        character_name = input(\"\\nName your warrior: \")\n",
        "        health_stats = generate_health_stats()\n",
        "\n",
        "        # Printing in different colors for extra points (if terminal supports ANSI escape codes)\n",
        "        print(f\"\\033[91m{character_name}\\033[0m's health is: \\033[1;37m{health_stats}hp\\033[0m\")\n",
        "\n",
        "        play_again = input(\"\\nDo you want to generate health stats for another character? (yes/no): \")\n",
        "        if play_again.lower() != 'yes':\n",
        "            print(\"\\nThanks for using the Character Stats Generator! ⚔️\")\n",
        "            break\n",
        "\n",
        "if __name__ == \"__main__\":\n",
        "    main()"
      ]
    },
    {
      "cell_type": "markdown",
      "metadata": {
        "id": "FyA4dCozTZvJ"
      },
      "source": [
        "##Add one more line to your output You can follow my progress at [GitHub](https://github.com/rodrigorissettoterra/100_days_of_Python/blob/main/README.md)."
      ]
    },
    {
      "cell_type": "code",
      "execution_count": null,
      "metadata": {
        "colab": {
          "base_uri": "https://localhost:8080/"
        },
        "id": "9cfq7jFSTTPg",
        "outputId": "f54d6903-6ba2-46e9-a10b-2b3f12857a68"
      },
      "outputs": [
        {
          "name": "stdout",
          "output_type": "stream",
          "text": [
            "You can follow my progress at:https://github.com/rodrigorissettoterra/100_days_of_Python/blob/main/README.md\n"
          ]
        }
      ],
      "source": [
        "print(\"You can follow my progress at:\"\"\"\n",
        "\"\"\"https://github.com/rodrigorissettoterra/100_days_of_Python/blob/main/README.md\"\"\")"
      ]
    }
  ],
  "metadata": {
    "colab": {
      "provenance": [],
      "authorship_tag": "ABX9TyNYH6TqFqibAP8cnhBNh2b1",
      "include_colab_link": true
    },
    "kernelspec": {
      "display_name": "Python 3",
      "name": "python3"
    },
    "language_info": {
      "name": "python"
    }
  },
  "nbformat": 4,
  "nbformat_minor": 0
}