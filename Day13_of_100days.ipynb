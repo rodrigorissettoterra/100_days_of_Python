{
  "nbformat": 4,
  "nbformat_minor": 0,
  "metadata": {
    "colab": {
      "provenance": [],
      "authorship_tag": "ABX9TyOdZoNxla7LQbI/j8uWDY6v",
      "include_colab_link": true
    },
    "kernelspec": {
      "name": "python3",
      "display_name": "Python 3"
    },
    "language_info": {
      "name": "python"
    }
  },
  "cells": [
    {
      "cell_type": "markdown",
      "metadata": {
        "id": "view-in-github",
        "colab_type": "text"
      },
      "source": [
        "<a href=\"https://colab.research.google.com/github/rodrigorissettoterra/100_days_of_Python/blob/main/Day13_of_100days.ipynb\" target=\"_parent\"><img src=\"https://colab.research.google.com/assets/colab-badge.svg\" alt=\"Open In Colab\"/></a>"
      ]
    },
    {
      "cell_type": "markdown",
      "source": [
        "#Project 13: Grade Generator"
      ],
      "metadata": {
        "id": "wUCtMeiaSObG"
      }
    },
    {
      "cell_type": "markdown",
      "source": [
        "This project is going to take some time (and some hard thinking) but will be brilliant once you have it working!"
      ],
      "metadata": {
        "id": "KSVQ3pYev11E"
      }
    },
    {
      "cell_type": "markdown",
      "source": [
        "##1 - You are going to ask the user to type in the name of a test, maximum score they could receive, and how many points they received. For example, your test could be called \"Python Skills\" and the maximum score is 50 points and the user receives 30 points out of 50 possible points."
      ],
      "metadata": {
        "id": "F-mUIKULDrqW"
      }
    },
    {
      "cell_type": "markdown",
      "source": [
        "##2 - Figure out the percentage the user received and round to 2 decimal places."
      ],
      "metadata": {
        "id": "_B-X7XRlEpgv"
      }
    },
    {
      "cell_type": "markdown",
      "source": [
        "##3 - Use if/elif statements to show users the letter grade they received."
      ],
      "metadata": {
        "id": "Qe-sjFrLErad"
      }
    },
    {
      "cell_type": "markdown",
      "source": [
        "##4 - At the end, the user should see the letter grade they received and the percentage correct."
      ],
      "metadata": {
        "id": "W1gsM_4vEucF"
      }
    },
    {
      "cell_type": "markdown",
      "source": [
        "##5 - Add in emojis to celebrate their good grade or different colors depending on what you think is a good or bad final grade."
      ],
      "metadata": {
        "id": "7BaQebZjEz1j"
      }
    },
    {
      "cell_type": "markdown",
      "source": [
        "Here is a grading scale to help you decide the letter grade the user received (feel free to use a different grading scale if you like.)</br></br>\n",
        "<table style=\"border-collapse: collapse; width: 100%;\">\n",
        "<tbody>\n",
        "<tr>\n",
        "<th style=\"width: 53.2046%; text-align: center;\">Letter Grade</th>\n",
        "<th style=\"width: 46.7076%; text-align: center;\">Percentage</th>\n",
        "</tr>\n",
        "<tr>\n",
        "<td style=\"width: 53.2046%; text-align: center;\">A+</td>\n",
        "<td style=\"width: 46.7076%; text-align: center;\">90-100</td>\n",
        "</tr>\n",
        "<tr>\n",
        "<td style=\"width: 53.2046%; text-align: center;\">A</td>\n",
        "<td style=\"width: 46.7076%; text-align: center;\">80-89</td>\n",
        "</tr>\n",
        "<tr>\n",
        "<td style=\"width: 53.2046%; text-align: center;\">B</td>\n",
        "<td style=\"width: 46.7076%; text-align: center;\">70-79</td>\n",
        "</tr>\n",
        "<tr>\n",
        "<td style=\"width: 53.2046%; text-align: center;\">C</td>\n",
        "<td style=\"width: 46.7076%; text-align: center;\">60-69</td>\n",
        "</tr>\n",
        "<tr>\n",
        "<td style=\"width: 53.2046%; text-align: center;\">D</td>\n",
        "<td style=\"width: 46.7076%; text-align: center;\">50-59</td>\n",
        "</tr>\n",
        "<tr>\n",
        "<td style=\"width: 53.2046%; text-align: center;\">U</td>\n",
        "<td style=\"width: 46.7076%; text-align: center;\">under 50</td>\n",
        "</tr>\n",
        "</tbody>\n",
        "</table>"
      ],
      "metadata": {
        "id": "esRgj8A1Ex9Y"
      }
    },
    {
      "cell_type": "code",
      "source": [
        "name = input(\"What is the name of the test? \")\n",
        "max = int(input(\"What is the maximum score you could receive? \"))\n",
        "score = int(input(\"What is your score? \"))\n",
        "\n",
        "percentage = round((score / max)*100,2)\n",
        "\n",
        "if percentage >= 90:\n",
        "  print(\"Test: \",name,\". You got\", \"\\033[34m\",percentage,\"\\033[39m% wich is a A+!\")\n",
        "if percentage >= 80 and percentage <= 89:\n",
        "  print(\"Test: \",name,\". You got\", \"\\033[36m\",percentage, \"\\033[39m% wich is a A!\")\n",
        "if percentage >= 70 and percentage <= 79:\n",
        "  print(\"Test: \",name,\". You got\", \"\\033[32m\",percentage, \"\\033[39m% wich is a B!\")\n",
        "if percentage >= 60 and percentage <= 69:\n",
        "  print(\"Test: \",name,\". You got\", \"\\033[33m\",percentage, \"\\033[39m% wich is a C!\")\n",
        "if percentage >= 50 and percentage <= 59:\n",
        "  print(\"Test: \",name,\". You got\", \"\\033[35m\", percentage, \"\\033[39m% wich is a D!\")\n",
        "if percentage <= 50:\n",
        "  print(\"Test: \",name,\". You got\", \"\\033[31m\",percentage, \"\\033[39m% wich is a U!\")"
      ],
      "metadata": {
        "id": "ygMy_RpAeuEf",
        "colab": {
          "base_uri": "https://localhost:8080/"
        },
        "outputId": "0ff54b24-98f8-42e1-b781-b27062055ec3"
      },
      "execution_count": 6,
      "outputs": [
        {
          "output_type": "stream",
          "name": "stdout",
          "text": [
            "What is the name of the test? Python\n",
            "What is the maximum score you could receive? 100\n",
            "What is your score? 91\n",
            "Test:  Python . You got \u001b[34m 91.0 \u001b[39m% wich is a A+!\n"
          ]
        }
      ]
    },
    {
      "cell_type": "markdown",
      "source": [
        "##Add one more line to your output You can follow my progress at [GitHub](https://github.com/rodrigorissettoterra/100_days_of_Python/blob/main/README.md)."
      ],
      "metadata": {
        "id": "FyA4dCozTZvJ"
      }
    },
    {
      "cell_type": "code",
      "source": [
        "print(\"You can follow my progress at:\"\"\"\n",
        "\"\"\"https://github.com/rodrigorissettoterra/100_days_of_Python/blob/main/README.md\"\"\")"
      ],
      "metadata": {
        "colab": {
          "base_uri": "https://localhost:8080/"
        },
        "id": "9cfq7jFSTTPg",
        "outputId": "f54d6903-6ba2-46e9-a10b-2b3f12857a68"
      },
      "execution_count": null,
      "outputs": [
        {
          "output_type": "stream",
          "name": "stdout",
          "text": [
            "You can follow my progress at:https://github.com/rodrigorissettoterra/100_days_of_Python/blob/main/README.md\n"
          ]
        }
      ]
    }
  ]
}