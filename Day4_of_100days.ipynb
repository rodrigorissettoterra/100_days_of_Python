{
  "nbformat": 4,
  "nbformat_minor": 0,
  "metadata": {
    "colab": {
      "provenance": [],
      "authorship_tag": "ABX9TyP1DxzBYt7E4OsbTJ/e96BS",
      "include_colab_link": true
    },
    "kernelspec": {
      "name": "python3",
      "display_name": "Python 3"
    },
    "language_info": {
      "name": "python"
    }
  },
  "cells": [
    {
      "cell_type": "markdown",
      "metadata": {
        "id": "view-in-github",
        "colab_type": "text"
      },
      "source": [
        "<a href=\"https://colab.research.google.com/github/rodrigorissettoterra/100_days_of_Python/blob/main/Day4_of_100days.ipynb\" target=\"_parent\"><img src=\"https://colab.research.google.com/assets/colab-badge.svg\" alt=\"Open In Colab\"/></a>"
      ]
    },
    {
      "cell_type": "markdown",
      "source": [
        "#Project 4: Everyone loves a good story!"
      ],
      "metadata": {
        "id": "wUCtMeiaSObG"
      }
    },
    {
      "cell_type": "markdown",
      "source": [
        "##1 - Ask your users to list a bunch of information about them: things they like, things they hate, names of family and friends... it's up to you how many and what kinds of things you pick. Keep it wacky!"
      ],
      "metadata": {
        "id": "0X2zCUzeSbp-"
      }
    },
    {
      "cell_type": "code",
      "execution_count": 25,
      "metadata": {
        "colab": {
          "base_uri": "https://localhost:8080/"
        },
        "id": "sZR-iLNhSDUk",
        "outputId": "26927219-2d17-4c9b-e1da-b1163ad08ebb"
      },
      "outputs": [
        {
          "name": "stdout",
          "output_type": "stream",
          "text": [
            "What is your name? Rodrigo Terra\n",
            "What is your worst enemy’s name? Mr Banana\n",
            "What is your superpower? mash bananas\n",
            "Where do you live? São Paulo\n",
            "What is your favorite food? Sucrilhos\n"
          ]
        }
      ],
      "source": [
        "name = input(\"What is your name? \")\n",
        "enemy = input(\"What is your worst enemy’s name? \")\n",
        "superpower = input(\"What is your superpower? \")\n",
        "live = input(\"Where do you live? \")\n",
        "food = input(\"What is your favorite food? \")"
      ]
    },
    {
      "cell_type": "markdown",
      "source": [
        "##2 - Now construct your story - it can be about anything you want, but must use the variables you've created in step 1."
      ],
      "metadata": {
        "id": "Cv9-I_B7SuJ9"
      }
    },
    {
      "cell_type": "code",
      "source": [
        "print(\"Welcome to your adventure simulator!\\n\")\n",
        "\n",
        "print(\"Hello,\",name,\"!\")\n",
        "print(\"Your ability to\", superpower, \"will make sure you never have to look at\", enemy, \"again.\")\n",
        "print(\"Go eat\",food, \"as you walk down the streets of\",live, \"and use\",superpower, \"for good and not evil!\")"
      ],
      "metadata": {
        "colab": {
          "base_uri": "https://localhost:8080/"
        },
        "id": "5mtGTmJWSqR9",
        "outputId": "cffa5feb-3faf-471b-ae90-121e0c3c9eee"
      },
      "execution_count": 27,
      "outputs": [
        {
          "output_type": "stream",
          "name": "stdout",
          "text": [
            "Welcome to your adventure simulator!\n",
            "\n",
            "Hello, Rodrigo Terra !\n",
            "Your ability to mash bananas will make sure you never have to look at Mr Banana again.\n",
            "Go eat Sucrilhos as you walk down the streets of São Paulo and use mash bananas for good and not evil!\n"
          ]
        }
      ]
    },
    {
      "cell_type": "markdown",
      "source": [
        "##3 - Add one more line to your output You can follow my progress at [GitHub](https://github.com/rodrigorissettoterra/100_days_of_Python/blob/main/README.md)."
      ],
      "metadata": {
        "id": "FyA4dCozTZvJ"
      }
    },
    {
      "cell_type": "code",
      "source": [
        "print(\"You can follow my progress at:\"\"\"\n",
        "\"\"\"https://github.com/rodrigorissettoterra/100_days_of_Python/blob/main/README.md\"\"\")"
      ],
      "metadata": {
        "colab": {
          "base_uri": "https://localhost:8080/"
        },
        "id": "9cfq7jFSTTPg",
        "outputId": "f54d6903-6ba2-46e9-a10b-2b3f12857a68"
      },
      "execution_count": 6,
      "outputs": [
        {
          "output_type": "stream",
          "name": "stdout",
          "text": [
            "You can follow my progress at:https://github.com/rodrigorissettoterra/100_days_of_Python/blob/main/README.md\n"
          ]
        }
      ]
    }
  ]
}