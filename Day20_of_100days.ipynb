{
  "cells": [
    {
      "cell_type": "markdown",
      "metadata": {
        "id": "view-in-github",
        "colab_type": "text"
      },
      "source": [
        "<a href=\"https://colab.research.google.com/github/rodrigorissettoterra/100_days_of_Python/blob/main/Day20_of_100days.ipynb\" target=\"_parent\"><img src=\"https://colab.research.google.com/assets/colab-badge.svg\" alt=\"Open In Colab\"/></a>"
      ]
    },
    {
      "cell_type": "markdown",
      "metadata": {
        "id": "wUCtMeiaSObG"
      },
      "source": [
        "#Project 20: List Generator"
      ]
    },
    {
      "cell_type": "markdown",
      "source": [
        "Ask the user to list a starting number, ending number, and increment to use. Display an answer based on the users' answers (use the input command.)"
      ],
      "metadata": {
        "id": "sAEa42WYLyxW"
      }
    },
    {
      "cell_type": "code",
      "execution_count": 2,
      "metadata": {
        "colab": {
          "base_uri": "https://localhost:8080/"
        },
        "id": "ygMy_RpAeuEf",
        "outputId": "e882238f-b947-4b34-dc96-393ca72a3cdc"
      },
      "outputs": [
        {
          "output_type": "stream",
          "name": "stdout",
          "text": [
            "Enter the start number: 5\n",
            "Enter the end number: 72\n",
            "Enter the increment: 3\n",
            "5\n",
            "8\n",
            "11\n",
            "14\n",
            "17\n",
            "20\n",
            "23\n",
            "26\n",
            "29\n",
            "32\n",
            "35\n",
            "38\n",
            "41\n",
            "44\n",
            "47\n",
            "50\n",
            "53\n",
            "56\n",
            "59\n",
            "62\n",
            "65\n",
            "68\n",
            "71\n"
          ]
        }
      ],
      "source": [
        "start_number = int(input(\"Enter the start number: \"))\n",
        "end_before_number = int(input(\"Enter the end number: \"))\n",
        "increment = int(input(\"Enter the increment: \"))\n",
        "\n",
        "for i in range(start_number, end_before_number, increment):\n",
        "  print(start_number)\n",
        "  start_number += increment"
      ]
    },
    {
      "cell_type": "markdown",
      "metadata": {
        "id": "FyA4dCozTZvJ"
      },
      "source": [
        "##Add one more line to your output You can follow my progress at [GitHub](https://github.com/rodrigorissettoterra/100_days_of_Python/blob/main/README.md)."
      ]
    },
    {
      "cell_type": "code",
      "execution_count": null,
      "metadata": {
        "colab": {
          "base_uri": "https://localhost:8080/"
        },
        "id": "9cfq7jFSTTPg",
        "outputId": "f54d6903-6ba2-46e9-a10b-2b3f12857a68"
      },
      "outputs": [
        {
          "name": "stdout",
          "output_type": "stream",
          "text": [
            "You can follow my progress at:https://github.com/rodrigorissettoterra/100_days_of_Python/blob/main/README.md\n"
          ]
        }
      ],
      "source": [
        "print(\"You can follow my progress at:\"\"\"\n",
        "\"\"\"https://github.com/rodrigorissettoterra/100_days_of_Python/blob/main/README.md\"\"\")"
      ]
    }
  ],
  "metadata": {
    "colab": {
      "provenance": [],
      "authorship_tag": "ABX9TyOoWqPcY8Bf0340isAhwjWQ",
      "include_colab_link": true
    },
    "kernelspec": {
      "display_name": "Python 3",
      "name": "python3"
    },
    "language_info": {
      "name": "python"
    }
  },
  "nbformat": 4,
  "nbformat_minor": 0
}